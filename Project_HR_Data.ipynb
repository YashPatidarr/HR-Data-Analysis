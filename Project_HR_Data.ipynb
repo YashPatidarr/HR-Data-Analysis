{
  "nbformat": 4,
  "nbformat_minor": 0,
  "metadata": {
    "kernelspec": {
      "display_name": "Python 3",
      "language": "python",
      "name": "python3"
    },
    "language_info": {
      "codemirror_mode": {
        "name": "ipython",
        "version": 3
      },
      "file_extension": ".py",
      "mimetype": "text/x-python",
      "name": "python",
      "nbconvert_exporter": "python",
      "pygments_lexer": "ipython3",
      "version": "3.7.2"
    },
    "colab": {
      "name": "Project_HR_Data.ipynb",
      "provenance": [],
      "include_colab_link": true
    }
  },
  "cells": [
    {
      "cell_type": "markdown",
      "metadata": {
        "id": "view-in-github",
        "colab_type": "text"
      },
      "source": [
        "<a href=\"https://colab.research.google.com/github/Yashdalot/HR-Data-Analysis/blob/master/Project_HR_Data.ipynb\" target=\"_parent\"><img src=\"https://colab.research.google.com/assets/colab-badge.svg\" alt=\"Open In Colab\"/></a>"
      ]
    },
    {
      "cell_type": "markdown",
      "metadata": {
        "id": "DDsKrjLclruG",
        "colab_type": "text"
      },
      "source": [
        "# Yash Patidar\n",
        "##     EN17CS301297\n",
        "### HR Dataset of Employee"
      ]
    },
    {
      "cell_type": "code",
      "metadata": {
        "id": "p-UJPeJklruK",
        "colab_type": "code",
        "colab": {}
      },
      "source": [
        "import numpy as np\n",
        "import pandas as pd\n",
        "import seaborn as snb\n",
        "from matplotlib import pyplot as plt"
      ],
      "execution_count": 4,
      "outputs": []
    },
    {
      "cell_type": "code",
      "metadata": {
        "id": "MD0AokzXlrub",
        "colab_type": "code",
        "colab": {}
      },
      "source": [
        "df = pd.read_csv(\"datasets_11142_15488_HR_comma_sep.csv\",encoding= 'latin')"
      ],
      "execution_count": 5,
      "outputs": []
    },
    {
      "cell_type": "code",
      "metadata": {
        "id": "XQoCX3Q1lrul",
        "colab_type": "code",
        "colab": {
          "base_uri": "https://localhost:8080/",
          "height": 343
        },
        "outputId": "c179acfa-d5ed-4215-edd1-340a847bfd87"
      },
      "source": [
        "df.head(10)"
      ],
      "execution_count": 6,
      "outputs": [
        {
          "output_type": "execute_result",
          "data": {
            "text/html": [
              "<div>\n",
              "<style scoped>\n",
              "    .dataframe tbody tr th:only-of-type {\n",
              "        vertical-align: middle;\n",
              "    }\n",
              "\n",
              "    .dataframe tbody tr th {\n",
              "        vertical-align: top;\n",
              "    }\n",
              "\n",
              "    .dataframe thead th {\n",
              "        text-align: right;\n",
              "    }\n",
              "</style>\n",
              "<table border=\"1\" class=\"dataframe\">\n",
              "  <thead>\n",
              "    <tr style=\"text-align: right;\">\n",
              "      <th></th>\n",
              "      <th>satisfaction_level</th>\n",
              "      <th>last_evaluation</th>\n",
              "      <th>number_project</th>\n",
              "      <th>average_montly_hours</th>\n",
              "      <th>time_spend_company</th>\n",
              "      <th>Work_accident</th>\n",
              "      <th>left</th>\n",
              "      <th>promotion_last_5years</th>\n",
              "      <th>Department</th>\n",
              "      <th>salary</th>\n",
              "    </tr>\n",
              "  </thead>\n",
              "  <tbody>\n",
              "    <tr>\n",
              "      <th>0</th>\n",
              "      <td>0.38</td>\n",
              "      <td>0.53</td>\n",
              "      <td>2</td>\n",
              "      <td>157</td>\n",
              "      <td>3</td>\n",
              "      <td>0</td>\n",
              "      <td>1</td>\n",
              "      <td>0</td>\n",
              "      <td>sales</td>\n",
              "      <td>low</td>\n",
              "    </tr>\n",
              "    <tr>\n",
              "      <th>1</th>\n",
              "      <td>0.80</td>\n",
              "      <td>0.86</td>\n",
              "      <td>5</td>\n",
              "      <td>262</td>\n",
              "      <td>6</td>\n",
              "      <td>0</td>\n",
              "      <td>1</td>\n",
              "      <td>0</td>\n",
              "      <td>sales</td>\n",
              "      <td>medium</td>\n",
              "    </tr>\n",
              "    <tr>\n",
              "      <th>2</th>\n",
              "      <td>0.11</td>\n",
              "      <td>0.88</td>\n",
              "      <td>7</td>\n",
              "      <td>272</td>\n",
              "      <td>4</td>\n",
              "      <td>0</td>\n",
              "      <td>1</td>\n",
              "      <td>0</td>\n",
              "      <td>sales</td>\n",
              "      <td>medium</td>\n",
              "    </tr>\n",
              "    <tr>\n",
              "      <th>3</th>\n",
              "      <td>0.72</td>\n",
              "      <td>0.87</td>\n",
              "      <td>5</td>\n",
              "      <td>223</td>\n",
              "      <td>5</td>\n",
              "      <td>0</td>\n",
              "      <td>1</td>\n",
              "      <td>0</td>\n",
              "      <td>sales</td>\n",
              "      <td>low</td>\n",
              "    </tr>\n",
              "    <tr>\n",
              "      <th>4</th>\n",
              "      <td>0.37</td>\n",
              "      <td>0.52</td>\n",
              "      <td>2</td>\n",
              "      <td>159</td>\n",
              "      <td>3</td>\n",
              "      <td>0</td>\n",
              "      <td>1</td>\n",
              "      <td>0</td>\n",
              "      <td>sales</td>\n",
              "      <td>low</td>\n",
              "    </tr>\n",
              "    <tr>\n",
              "      <th>5</th>\n",
              "      <td>0.41</td>\n",
              "      <td>0.50</td>\n",
              "      <td>2</td>\n",
              "      <td>153</td>\n",
              "      <td>3</td>\n",
              "      <td>0</td>\n",
              "      <td>1</td>\n",
              "      <td>0</td>\n",
              "      <td>sales</td>\n",
              "      <td>low</td>\n",
              "    </tr>\n",
              "    <tr>\n",
              "      <th>6</th>\n",
              "      <td>0.10</td>\n",
              "      <td>0.77</td>\n",
              "      <td>6</td>\n",
              "      <td>247</td>\n",
              "      <td>4</td>\n",
              "      <td>0</td>\n",
              "      <td>1</td>\n",
              "      <td>0</td>\n",
              "      <td>sales</td>\n",
              "      <td>low</td>\n",
              "    </tr>\n",
              "    <tr>\n",
              "      <th>7</th>\n",
              "      <td>0.92</td>\n",
              "      <td>0.85</td>\n",
              "      <td>5</td>\n",
              "      <td>259</td>\n",
              "      <td>5</td>\n",
              "      <td>0</td>\n",
              "      <td>1</td>\n",
              "      <td>0</td>\n",
              "      <td>sales</td>\n",
              "      <td>low</td>\n",
              "    </tr>\n",
              "    <tr>\n",
              "      <th>8</th>\n",
              "      <td>0.89</td>\n",
              "      <td>1.00</td>\n",
              "      <td>5</td>\n",
              "      <td>224</td>\n",
              "      <td>5</td>\n",
              "      <td>0</td>\n",
              "      <td>1</td>\n",
              "      <td>0</td>\n",
              "      <td>sales</td>\n",
              "      <td>low</td>\n",
              "    </tr>\n",
              "    <tr>\n",
              "      <th>9</th>\n",
              "      <td>0.42</td>\n",
              "      <td>0.53</td>\n",
              "      <td>2</td>\n",
              "      <td>142</td>\n",
              "      <td>3</td>\n",
              "      <td>0</td>\n",
              "      <td>1</td>\n",
              "      <td>0</td>\n",
              "      <td>sales</td>\n",
              "      <td>low</td>\n",
              "    </tr>\n",
              "  </tbody>\n",
              "</table>\n",
              "</div>"
            ],
            "text/plain": [
              "   satisfaction_level  last_evaluation  ...  Department  salary\n",
              "0                0.38             0.53  ...       sales     low\n",
              "1                0.80             0.86  ...       sales  medium\n",
              "2                0.11             0.88  ...       sales  medium\n",
              "3                0.72             0.87  ...       sales     low\n",
              "4                0.37             0.52  ...       sales     low\n",
              "5                0.41             0.50  ...       sales     low\n",
              "6                0.10             0.77  ...       sales     low\n",
              "7                0.92             0.85  ...       sales     low\n",
              "8                0.89             1.00  ...       sales     low\n",
              "9                0.42             0.53  ...       sales     low\n",
              "\n",
              "[10 rows x 10 columns]"
            ]
          },
          "metadata": {
            "tags": []
          },
          "execution_count": 6
        }
      ]
    },
    {
      "cell_type": "code",
      "metadata": {
        "id": "a8Zvn7E3lrux",
        "colab_type": "code",
        "colab": {
          "base_uri": "https://localhost:8080/",
          "height": 34
        },
        "outputId": "eb7b16f1-1fec-4027-fcf2-f04c314617c9"
      },
      "source": [
        "df[\"promotion_last_5years\"].unique()"
      ],
      "execution_count": 7,
      "outputs": [
        {
          "output_type": "execute_result",
          "data": {
            "text/plain": [
              "array([0, 1])"
            ]
          },
          "metadata": {
            "tags": []
          },
          "execution_count": 7
        }
      ]
    },
    {
      "cell_type": "code",
      "metadata": {
        "id": "cS0x4dgblru7",
        "colab_type": "code",
        "colab": {
          "base_uri": "https://localhost:8080/",
          "height": 284
        },
        "outputId": "4a623a6b-e354-409f-eeeb-240bb79cc3c6"
      },
      "source": [
        "df.describe()"
      ],
      "execution_count": 8,
      "outputs": [
        {
          "output_type": "execute_result",
          "data": {
            "text/html": [
              "<div>\n",
              "<style scoped>\n",
              "    .dataframe tbody tr th:only-of-type {\n",
              "        vertical-align: middle;\n",
              "    }\n",
              "\n",
              "    .dataframe tbody tr th {\n",
              "        vertical-align: top;\n",
              "    }\n",
              "\n",
              "    .dataframe thead th {\n",
              "        text-align: right;\n",
              "    }\n",
              "</style>\n",
              "<table border=\"1\" class=\"dataframe\">\n",
              "  <thead>\n",
              "    <tr style=\"text-align: right;\">\n",
              "      <th></th>\n",
              "      <th>satisfaction_level</th>\n",
              "      <th>last_evaluation</th>\n",
              "      <th>number_project</th>\n",
              "      <th>average_montly_hours</th>\n",
              "      <th>time_spend_company</th>\n",
              "      <th>Work_accident</th>\n",
              "      <th>left</th>\n",
              "      <th>promotion_last_5years</th>\n",
              "    </tr>\n",
              "  </thead>\n",
              "  <tbody>\n",
              "    <tr>\n",
              "      <th>count</th>\n",
              "      <td>14999.000000</td>\n",
              "      <td>14999.000000</td>\n",
              "      <td>14999.000000</td>\n",
              "      <td>14999.000000</td>\n",
              "      <td>14999.000000</td>\n",
              "      <td>14999.000000</td>\n",
              "      <td>14999.000000</td>\n",
              "      <td>14999.000000</td>\n",
              "    </tr>\n",
              "    <tr>\n",
              "      <th>mean</th>\n",
              "      <td>0.612834</td>\n",
              "      <td>0.716102</td>\n",
              "      <td>3.803054</td>\n",
              "      <td>201.050337</td>\n",
              "      <td>3.498233</td>\n",
              "      <td>0.144610</td>\n",
              "      <td>0.238083</td>\n",
              "      <td>0.021268</td>\n",
              "    </tr>\n",
              "    <tr>\n",
              "      <th>std</th>\n",
              "      <td>0.248631</td>\n",
              "      <td>0.171169</td>\n",
              "      <td>1.232592</td>\n",
              "      <td>49.943099</td>\n",
              "      <td>1.460136</td>\n",
              "      <td>0.351719</td>\n",
              "      <td>0.425924</td>\n",
              "      <td>0.144281</td>\n",
              "    </tr>\n",
              "    <tr>\n",
              "      <th>min</th>\n",
              "      <td>0.090000</td>\n",
              "      <td>0.360000</td>\n",
              "      <td>2.000000</td>\n",
              "      <td>96.000000</td>\n",
              "      <td>2.000000</td>\n",
              "      <td>0.000000</td>\n",
              "      <td>0.000000</td>\n",
              "      <td>0.000000</td>\n",
              "    </tr>\n",
              "    <tr>\n",
              "      <th>25%</th>\n",
              "      <td>0.440000</td>\n",
              "      <td>0.560000</td>\n",
              "      <td>3.000000</td>\n",
              "      <td>156.000000</td>\n",
              "      <td>3.000000</td>\n",
              "      <td>0.000000</td>\n",
              "      <td>0.000000</td>\n",
              "      <td>0.000000</td>\n",
              "    </tr>\n",
              "    <tr>\n",
              "      <th>50%</th>\n",
              "      <td>0.640000</td>\n",
              "      <td>0.720000</td>\n",
              "      <td>4.000000</td>\n",
              "      <td>200.000000</td>\n",
              "      <td>3.000000</td>\n",
              "      <td>0.000000</td>\n",
              "      <td>0.000000</td>\n",
              "      <td>0.000000</td>\n",
              "    </tr>\n",
              "    <tr>\n",
              "      <th>75%</th>\n",
              "      <td>0.820000</td>\n",
              "      <td>0.870000</td>\n",
              "      <td>5.000000</td>\n",
              "      <td>245.000000</td>\n",
              "      <td>4.000000</td>\n",
              "      <td>0.000000</td>\n",
              "      <td>0.000000</td>\n",
              "      <td>0.000000</td>\n",
              "    </tr>\n",
              "    <tr>\n",
              "      <th>max</th>\n",
              "      <td>1.000000</td>\n",
              "      <td>1.000000</td>\n",
              "      <td>7.000000</td>\n",
              "      <td>310.000000</td>\n",
              "      <td>10.000000</td>\n",
              "      <td>1.000000</td>\n",
              "      <td>1.000000</td>\n",
              "      <td>1.000000</td>\n",
              "    </tr>\n",
              "  </tbody>\n",
              "</table>\n",
              "</div>"
            ],
            "text/plain": [
              "       satisfaction_level  last_evaluation  ...          left  promotion_last_5years\n",
              "count        14999.000000     14999.000000  ...  14999.000000           14999.000000\n",
              "mean             0.612834         0.716102  ...      0.238083               0.021268\n",
              "std              0.248631         0.171169  ...      0.425924               0.144281\n",
              "min              0.090000         0.360000  ...      0.000000               0.000000\n",
              "25%              0.440000         0.560000  ...      0.000000               0.000000\n",
              "50%              0.640000         0.720000  ...      0.000000               0.000000\n",
              "75%              0.820000         0.870000  ...      0.000000               0.000000\n",
              "max              1.000000         1.000000  ...      1.000000               1.000000\n",
              "\n",
              "[8 rows x 8 columns]"
            ]
          },
          "metadata": {
            "tags": []
          },
          "execution_count": 8
        }
      ]
    },
    {
      "cell_type": "code",
      "metadata": {
        "id": "WedBsPH2lrvE",
        "colab_type": "code",
        "colab": {
          "base_uri": "https://localhost:8080/",
          "height": 202
        },
        "outputId": "7428a453-82be-4c1f-b7a2-e27c9bb2e283"
      },
      "source": [
        "df.isnull().sum()"
      ],
      "execution_count": 9,
      "outputs": [
        {
          "output_type": "execute_result",
          "data": {
            "text/plain": [
              "satisfaction_level       0\n",
              "last_evaluation          0\n",
              "number_project           0\n",
              "average_montly_hours     0\n",
              "time_spend_company       0\n",
              "Work_accident            0\n",
              "left                     0\n",
              "promotion_last_5years    0\n",
              "Department               0\n",
              "salary                   0\n",
              "dtype: int64"
            ]
          },
          "metadata": {
            "tags": []
          },
          "execution_count": 9
        }
      ]
    },
    {
      "cell_type": "code",
      "metadata": {
        "id": "EJcKYF6JlrvN",
        "colab_type": "code",
        "colab": {
          "base_uri": "https://localhost:8080/",
          "height": 166
        },
        "outputId": "4ab1ac2e-0081-4cc9-c682-52e41950bbb4"
      },
      "source": [
        "df.groupby([\"salary\"]).mean()"
      ],
      "execution_count": 10,
      "outputs": [
        {
          "output_type": "execute_result",
          "data": {
            "text/html": [
              "<div>\n",
              "<style scoped>\n",
              "    .dataframe tbody tr th:only-of-type {\n",
              "        vertical-align: middle;\n",
              "    }\n",
              "\n",
              "    .dataframe tbody tr th {\n",
              "        vertical-align: top;\n",
              "    }\n",
              "\n",
              "    .dataframe thead th {\n",
              "        text-align: right;\n",
              "    }\n",
              "</style>\n",
              "<table border=\"1\" class=\"dataframe\">\n",
              "  <thead>\n",
              "    <tr style=\"text-align: right;\">\n",
              "      <th></th>\n",
              "      <th>satisfaction_level</th>\n",
              "      <th>last_evaluation</th>\n",
              "      <th>number_project</th>\n",
              "      <th>average_montly_hours</th>\n",
              "      <th>time_spend_company</th>\n",
              "      <th>Work_accident</th>\n",
              "      <th>left</th>\n",
              "      <th>promotion_last_5years</th>\n",
              "    </tr>\n",
              "    <tr>\n",
              "      <th>salary</th>\n",
              "      <th></th>\n",
              "      <th></th>\n",
              "      <th></th>\n",
              "      <th></th>\n",
              "      <th></th>\n",
              "      <th></th>\n",
              "      <th></th>\n",
              "      <th></th>\n",
              "    </tr>\n",
              "  </thead>\n",
              "  <tbody>\n",
              "    <tr>\n",
              "      <th>high</th>\n",
              "      <td>0.637470</td>\n",
              "      <td>0.704325</td>\n",
              "      <td>3.767179</td>\n",
              "      <td>199.867421</td>\n",
              "      <td>3.692805</td>\n",
              "      <td>0.155214</td>\n",
              "      <td>0.066289</td>\n",
              "      <td>0.058205</td>\n",
              "    </tr>\n",
              "    <tr>\n",
              "      <th>low</th>\n",
              "      <td>0.600753</td>\n",
              "      <td>0.717017</td>\n",
              "      <td>3.799891</td>\n",
              "      <td>200.996583</td>\n",
              "      <td>3.438218</td>\n",
              "      <td>0.142154</td>\n",
              "      <td>0.296884</td>\n",
              "      <td>0.009021</td>\n",
              "    </tr>\n",
              "    <tr>\n",
              "      <th>medium</th>\n",
              "      <td>0.621817</td>\n",
              "      <td>0.717322</td>\n",
              "      <td>3.813528</td>\n",
              "      <td>201.338349</td>\n",
              "      <td>3.529010</td>\n",
              "      <td>0.145361</td>\n",
              "      <td>0.204313</td>\n",
              "      <td>0.028079</td>\n",
              "    </tr>\n",
              "  </tbody>\n",
              "</table>\n",
              "</div>"
            ],
            "text/plain": [
              "        satisfaction_level  last_evaluation  ...      left  promotion_last_5years\n",
              "salary                                       ...                                 \n",
              "high              0.637470         0.704325  ...  0.066289               0.058205\n",
              "low               0.600753         0.717017  ...  0.296884               0.009021\n",
              "medium            0.621817         0.717322  ...  0.204313               0.028079\n",
              "\n",
              "[3 rows x 8 columns]"
            ]
          },
          "metadata": {
            "tags": []
          },
          "execution_count": 10
        }
      ]
    },
    {
      "cell_type": "code",
      "metadata": {
        "id": "1vd_KzPulrvY",
        "colab_type": "code",
        "colab": {
          "base_uri": "https://localhost:8080/",
          "height": 373
        },
        "outputId": "75e04781-dfbc-4993-bdbc-78c38fc8b96c"
      },
      "source": [
        "df.groupby([\"Department\"]).mean()"
      ],
      "execution_count": 11,
      "outputs": [
        {
          "output_type": "execute_result",
          "data": {
            "text/html": [
              "<div>\n",
              "<style scoped>\n",
              "    .dataframe tbody tr th:only-of-type {\n",
              "        vertical-align: middle;\n",
              "    }\n",
              "\n",
              "    .dataframe tbody tr th {\n",
              "        vertical-align: top;\n",
              "    }\n",
              "\n",
              "    .dataframe thead th {\n",
              "        text-align: right;\n",
              "    }\n",
              "</style>\n",
              "<table border=\"1\" class=\"dataframe\">\n",
              "  <thead>\n",
              "    <tr style=\"text-align: right;\">\n",
              "      <th></th>\n",
              "      <th>satisfaction_level</th>\n",
              "      <th>last_evaluation</th>\n",
              "      <th>number_project</th>\n",
              "      <th>average_montly_hours</th>\n",
              "      <th>time_spend_company</th>\n",
              "      <th>Work_accident</th>\n",
              "      <th>left</th>\n",
              "      <th>promotion_last_5years</th>\n",
              "    </tr>\n",
              "    <tr>\n",
              "      <th>Department</th>\n",
              "      <th></th>\n",
              "      <th></th>\n",
              "      <th></th>\n",
              "      <th></th>\n",
              "      <th></th>\n",
              "      <th></th>\n",
              "      <th></th>\n",
              "      <th></th>\n",
              "    </tr>\n",
              "  </thead>\n",
              "  <tbody>\n",
              "    <tr>\n",
              "      <th>IT</th>\n",
              "      <td>0.618142</td>\n",
              "      <td>0.716830</td>\n",
              "      <td>3.816626</td>\n",
              "      <td>202.215974</td>\n",
              "      <td>3.468623</td>\n",
              "      <td>0.133659</td>\n",
              "      <td>0.222494</td>\n",
              "      <td>0.002445</td>\n",
              "    </tr>\n",
              "    <tr>\n",
              "      <th>RandD</th>\n",
              "      <td>0.619822</td>\n",
              "      <td>0.712122</td>\n",
              "      <td>3.853875</td>\n",
              "      <td>200.800508</td>\n",
              "      <td>3.367217</td>\n",
              "      <td>0.170267</td>\n",
              "      <td>0.153748</td>\n",
              "      <td>0.034307</td>\n",
              "    </tr>\n",
              "    <tr>\n",
              "      <th>accounting</th>\n",
              "      <td>0.582151</td>\n",
              "      <td>0.717718</td>\n",
              "      <td>3.825293</td>\n",
              "      <td>201.162973</td>\n",
              "      <td>3.522816</td>\n",
              "      <td>0.125163</td>\n",
              "      <td>0.265971</td>\n",
              "      <td>0.018253</td>\n",
              "    </tr>\n",
              "    <tr>\n",
              "      <th>hr</th>\n",
              "      <td>0.598809</td>\n",
              "      <td>0.708850</td>\n",
              "      <td>3.654939</td>\n",
              "      <td>198.684709</td>\n",
              "      <td>3.355886</td>\n",
              "      <td>0.120433</td>\n",
              "      <td>0.290934</td>\n",
              "      <td>0.020298</td>\n",
              "    </tr>\n",
              "    <tr>\n",
              "      <th>management</th>\n",
              "      <td>0.621349</td>\n",
              "      <td>0.724000</td>\n",
              "      <td>3.860317</td>\n",
              "      <td>201.249206</td>\n",
              "      <td>4.303175</td>\n",
              "      <td>0.163492</td>\n",
              "      <td>0.144444</td>\n",
              "      <td>0.109524</td>\n",
              "    </tr>\n",
              "    <tr>\n",
              "      <th>marketing</th>\n",
              "      <td>0.618601</td>\n",
              "      <td>0.715886</td>\n",
              "      <td>3.687646</td>\n",
              "      <td>199.385781</td>\n",
              "      <td>3.569930</td>\n",
              "      <td>0.160839</td>\n",
              "      <td>0.236597</td>\n",
              "      <td>0.050117</td>\n",
              "    </tr>\n",
              "    <tr>\n",
              "      <th>product_mng</th>\n",
              "      <td>0.619634</td>\n",
              "      <td>0.714756</td>\n",
              "      <td>3.807095</td>\n",
              "      <td>199.965632</td>\n",
              "      <td>3.475610</td>\n",
              "      <td>0.146341</td>\n",
              "      <td>0.219512</td>\n",
              "      <td>0.000000</td>\n",
              "    </tr>\n",
              "    <tr>\n",
              "      <th>sales</th>\n",
              "      <td>0.614447</td>\n",
              "      <td>0.709717</td>\n",
              "      <td>3.776329</td>\n",
              "      <td>200.911353</td>\n",
              "      <td>3.534058</td>\n",
              "      <td>0.141787</td>\n",
              "      <td>0.244928</td>\n",
              "      <td>0.024155</td>\n",
              "    </tr>\n",
              "    <tr>\n",
              "      <th>support</th>\n",
              "      <td>0.618300</td>\n",
              "      <td>0.723109</td>\n",
              "      <td>3.803948</td>\n",
              "      <td>200.758188</td>\n",
              "      <td>3.393001</td>\n",
              "      <td>0.154778</td>\n",
              "      <td>0.248991</td>\n",
              "      <td>0.008973</td>\n",
              "    </tr>\n",
              "    <tr>\n",
              "      <th>technical</th>\n",
              "      <td>0.607897</td>\n",
              "      <td>0.721099</td>\n",
              "      <td>3.877941</td>\n",
              "      <td>202.497426</td>\n",
              "      <td>3.411397</td>\n",
              "      <td>0.140074</td>\n",
              "      <td>0.256250</td>\n",
              "      <td>0.010294</td>\n",
              "    </tr>\n",
              "  </tbody>\n",
              "</table>\n",
              "</div>"
            ],
            "text/plain": [
              "             satisfaction_level  ...  promotion_last_5years\n",
              "Department                       ...                       \n",
              "IT                     0.618142  ...               0.002445\n",
              "RandD                  0.619822  ...               0.034307\n",
              "accounting             0.582151  ...               0.018253\n",
              "hr                     0.598809  ...               0.020298\n",
              "management             0.621349  ...               0.109524\n",
              "marketing              0.618601  ...               0.050117\n",
              "product_mng            0.619634  ...               0.000000\n",
              "sales                  0.614447  ...               0.024155\n",
              "support                0.618300  ...               0.008973\n",
              "technical              0.607897  ...               0.010294\n",
              "\n",
              "[10 rows x 8 columns]"
            ]
          },
          "metadata": {
            "tags": []
          },
          "execution_count": 11
        }
      ]
    },
    {
      "cell_type": "code",
      "metadata": {
        "id": "Ianb9-86lrvh",
        "colab_type": "code",
        "colab": {
          "base_uri": "https://localhost:8080/",
          "height": 965
        },
        "outputId": "b104bf6a-ae6b-4583-9640-f0df078cfa5b"
      },
      "source": [
        "df.groupby([\"Department\",\"salary\"]).mean()"
      ],
      "execution_count": 12,
      "outputs": [
        {
          "output_type": "execute_result",
          "data": {
            "text/html": [
              "<div>\n",
              "<style scoped>\n",
              "    .dataframe tbody tr th:only-of-type {\n",
              "        vertical-align: middle;\n",
              "    }\n",
              "\n",
              "    .dataframe tbody tr th {\n",
              "        vertical-align: top;\n",
              "    }\n",
              "\n",
              "    .dataframe thead th {\n",
              "        text-align: right;\n",
              "    }\n",
              "</style>\n",
              "<table border=\"1\" class=\"dataframe\">\n",
              "  <thead>\n",
              "    <tr style=\"text-align: right;\">\n",
              "      <th></th>\n",
              "      <th></th>\n",
              "      <th>satisfaction_level</th>\n",
              "      <th>last_evaluation</th>\n",
              "      <th>number_project</th>\n",
              "      <th>average_montly_hours</th>\n",
              "      <th>time_spend_company</th>\n",
              "      <th>Work_accident</th>\n",
              "      <th>left</th>\n",
              "      <th>promotion_last_5years</th>\n",
              "    </tr>\n",
              "    <tr>\n",
              "      <th>Department</th>\n",
              "      <th>salary</th>\n",
              "      <th></th>\n",
              "      <th></th>\n",
              "      <th></th>\n",
              "      <th></th>\n",
              "      <th></th>\n",
              "      <th></th>\n",
              "      <th></th>\n",
              "      <th></th>\n",
              "    </tr>\n",
              "  </thead>\n",
              "  <tbody>\n",
              "    <tr>\n",
              "      <th rowspan=\"3\" valign=\"top\">IT</th>\n",
              "      <th>high</th>\n",
              "      <td>0.638193</td>\n",
              "      <td>0.716627</td>\n",
              "      <td>3.867470</td>\n",
              "      <td>194.927711</td>\n",
              "      <td>3.072289</td>\n",
              "      <td>0.048193</td>\n",
              "      <td>0.048193</td>\n",
              "      <td>0.000000</td>\n",
              "    </tr>\n",
              "    <tr>\n",
              "      <th>low</th>\n",
              "      <td>0.610099</td>\n",
              "      <td>0.715665</td>\n",
              "      <td>3.794745</td>\n",
              "      <td>201.382594</td>\n",
              "      <td>3.438424</td>\n",
              "      <td>0.146141</td>\n",
              "      <td>0.282430</td>\n",
              "      <td>0.003284</td>\n",
              "    </tr>\n",
              "    <tr>\n",
              "      <th>medium</th>\n",
              "      <td>0.624187</td>\n",
              "      <td>0.718187</td>\n",
              "      <td>3.833645</td>\n",
              "      <td>204.295327</td>\n",
              "      <td>3.564486</td>\n",
              "      <td>0.132710</td>\n",
              "      <td>0.181308</td>\n",
              "      <td>0.001869</td>\n",
              "    </tr>\n",
              "    <tr>\n",
              "      <th rowspan=\"3\" valign=\"top\">RandD</th>\n",
              "      <th>high</th>\n",
              "      <td>0.586667</td>\n",
              "      <td>0.700588</td>\n",
              "      <td>3.764706</td>\n",
              "      <td>199.745098</td>\n",
              "      <td>3.529412</td>\n",
              "      <td>0.176471</td>\n",
              "      <td>0.078431</td>\n",
              "      <td>0.019608</td>\n",
              "    </tr>\n",
              "    <tr>\n",
              "      <th>low</th>\n",
              "      <td>0.623929</td>\n",
              "      <td>0.714176</td>\n",
              "      <td>3.804945</td>\n",
              "      <td>198.747253</td>\n",
              "      <td>3.381868</td>\n",
              "      <td>0.195055</td>\n",
              "      <td>0.151099</td>\n",
              "      <td>0.008242</td>\n",
              "    </tr>\n",
              "    <tr>\n",
              "      <th>medium</th>\n",
              "      <td>0.620349</td>\n",
              "      <td>0.711694</td>\n",
              "      <td>3.913978</td>\n",
              "      <td>202.954301</td>\n",
              "      <td>3.330645</td>\n",
              "      <td>0.145161</td>\n",
              "      <td>0.166667</td>\n",
              "      <td>0.061828</td>\n",
              "    </tr>\n",
              "    <tr>\n",
              "      <th rowspan=\"3\" valign=\"top\">accounting</th>\n",
              "      <th>high</th>\n",
              "      <td>0.614054</td>\n",
              "      <td>0.724595</td>\n",
              "      <td>3.905405</td>\n",
              "      <td>205.905405</td>\n",
              "      <td>3.216216</td>\n",
              "      <td>0.202703</td>\n",
              "      <td>0.067568</td>\n",
              "      <td>0.081081</td>\n",
              "    </tr>\n",
              "    <tr>\n",
              "      <th>low</th>\n",
              "      <td>0.574162</td>\n",
              "      <td>0.713883</td>\n",
              "      <td>3.801676</td>\n",
              "      <td>199.899441</td>\n",
              "      <td>3.438547</td>\n",
              "      <td>0.111732</td>\n",
              "      <td>0.276536</td>\n",
              "      <td>0.005587</td>\n",
              "    </tr>\n",
              "    <tr>\n",
              "      <th>medium</th>\n",
              "      <td>0.583642</td>\n",
              "      <td>0.720299</td>\n",
              "      <td>3.832836</td>\n",
              "      <td>201.465672</td>\n",
              "      <td>3.680597</td>\n",
              "      <td>0.122388</td>\n",
              "      <td>0.298507</td>\n",
              "      <td>0.017910</td>\n",
              "    </tr>\n",
              "    <tr>\n",
              "      <th rowspan=\"3\" valign=\"top\">hr</th>\n",
              "      <th>high</th>\n",
              "      <td>0.673111</td>\n",
              "      <td>0.743778</td>\n",
              "      <td>3.888889</td>\n",
              "      <td>209.066667</td>\n",
              "      <td>2.911111</td>\n",
              "      <td>0.088889</td>\n",
              "      <td>0.133333</td>\n",
              "      <td>0.044444</td>\n",
              "    </tr>\n",
              "    <tr>\n",
              "      <th>low</th>\n",
              "      <td>0.608657</td>\n",
              "      <td>0.717821</td>\n",
              "      <td>3.692537</td>\n",
              "      <td>202.456716</td>\n",
              "      <td>3.259701</td>\n",
              "      <td>0.137313</td>\n",
              "      <td>0.274627</td>\n",
              "      <td>0.005970</td>\n",
              "    </tr>\n",
              "    <tr>\n",
              "      <th>medium</th>\n",
              "      <td>0.580306</td>\n",
              "      <td>0.696100</td>\n",
              "      <td>3.590529</td>\n",
              "      <td>193.863510</td>\n",
              "      <td>3.501393</td>\n",
              "      <td>0.108635</td>\n",
              "      <td>0.325905</td>\n",
              "      <td>0.030641</td>\n",
              "    </tr>\n",
              "    <tr>\n",
              "      <th rowspan=\"3\" valign=\"top\">management</th>\n",
              "      <th>high</th>\n",
              "      <td>0.653333</td>\n",
              "      <td>0.715822</td>\n",
              "      <td>3.777778</td>\n",
              "      <td>200.248889</td>\n",
              "      <td>5.164444</td>\n",
              "      <td>0.160000</td>\n",
              "      <td>0.004444</td>\n",
              "      <td>0.200000</td>\n",
              "    </tr>\n",
              "    <tr>\n",
              "      <th>low</th>\n",
              "      <td>0.610722</td>\n",
              "      <td>0.712833</td>\n",
              "      <td>3.777778</td>\n",
              "      <td>200.744444</td>\n",
              "      <td>3.411111</td>\n",
              "      <td>0.166667</td>\n",
              "      <td>0.327778</td>\n",
              "      <td>0.038889</td>\n",
              "    </tr>\n",
              "    <tr>\n",
              "      <th>medium</th>\n",
              "      <td>0.597867</td>\n",
              "      <td>0.741111</td>\n",
              "      <td>4.008889</td>\n",
              "      <td>202.653333</td>\n",
              "      <td>4.155556</td>\n",
              "      <td>0.164444</td>\n",
              "      <td>0.137778</td>\n",
              "      <td>0.075556</td>\n",
              "    </tr>\n",
              "    <tr>\n",
              "      <th rowspan=\"3\" valign=\"top\">marketing</th>\n",
              "      <th>high</th>\n",
              "      <td>0.605250</td>\n",
              "      <td>0.663625</td>\n",
              "      <td>3.425000</td>\n",
              "      <td>185.575000</td>\n",
              "      <td>3.512500</td>\n",
              "      <td>0.162500</td>\n",
              "      <td>0.112500</td>\n",
              "      <td>0.062500</td>\n",
              "    </tr>\n",
              "    <tr>\n",
              "      <th>low</th>\n",
              "      <td>0.602910</td>\n",
              "      <td>0.727587</td>\n",
              "      <td>3.751244</td>\n",
              "      <td>204.487562</td>\n",
              "      <td>3.527363</td>\n",
              "      <td>0.154229</td>\n",
              "      <td>0.313433</td>\n",
              "      <td>0.027363</td>\n",
              "    </tr>\n",
              "    <tr>\n",
              "      <th>medium</th>\n",
              "      <td>0.638218</td>\n",
              "      <td>0.714495</td>\n",
              "      <td>3.675532</td>\n",
              "      <td>196.869681</td>\n",
              "      <td>3.627660</td>\n",
              "      <td>0.167553</td>\n",
              "      <td>0.180851</td>\n",
              "      <td>0.071809</td>\n",
              "    </tr>\n",
              "    <tr>\n",
              "      <th rowspan=\"3\" valign=\"top\">product_mng</th>\n",
              "      <th>high</th>\n",
              "      <td>0.614118</td>\n",
              "      <td>0.665735</td>\n",
              "      <td>3.705882</td>\n",
              "      <td>194.632353</td>\n",
              "      <td>3.617647</td>\n",
              "      <td>0.191176</td>\n",
              "      <td>0.088235</td>\n",
              "      <td>0.000000</td>\n",
              "    </tr>\n",
              "    <tr>\n",
              "      <th>low</th>\n",
              "      <td>0.620909</td>\n",
              "      <td>0.725831</td>\n",
              "      <td>3.824834</td>\n",
              "      <td>201.048780</td>\n",
              "      <td>3.434590</td>\n",
              "      <td>0.150776</td>\n",
              "      <td>0.232816</td>\n",
              "      <td>0.000000</td>\n",
              "    </tr>\n",
              "    <tr>\n",
              "      <th>medium</th>\n",
              "      <td>0.619112</td>\n",
              "      <td>0.710418</td>\n",
              "      <td>3.804178</td>\n",
              "      <td>199.637076</td>\n",
              "      <td>3.498695</td>\n",
              "      <td>0.133159</td>\n",
              "      <td>0.227154</td>\n",
              "      <td>0.000000</td>\n",
              "    </tr>\n",
              "    <tr>\n",
              "      <th rowspan=\"3\" valign=\"top\">sales</th>\n",
              "      <th>high</th>\n",
              "      <td>0.648959</td>\n",
              "      <td>0.699814</td>\n",
              "      <td>3.858736</td>\n",
              "      <td>201.178439</td>\n",
              "      <td>3.550186</td>\n",
              "      <td>0.137546</td>\n",
              "      <td>0.052045</td>\n",
              "      <td>0.044610</td>\n",
              "    </tr>\n",
              "    <tr>\n",
              "      <th>low</th>\n",
              "      <td>0.600838</td>\n",
              "      <td>0.709247</td>\n",
              "      <td>3.757980</td>\n",
              "      <td>200.363030</td>\n",
              "      <td>3.464030</td>\n",
              "      <td>0.126251</td>\n",
              "      <td>0.332063</td>\n",
              "      <td>0.009528</td>\n",
              "    </tr>\n",
              "    <tr>\n",
              "      <th>medium</th>\n",
              "      <td>0.625327</td>\n",
              "      <td>0.711778</td>\n",
              "      <td>3.785553</td>\n",
              "      <td>201.520316</td>\n",
              "      <td>3.614560</td>\n",
              "      <td>0.160835</td>\n",
              "      <td>0.170993</td>\n",
              "      <td>0.038375</td>\n",
              "    </tr>\n",
              "    <tr>\n",
              "      <th rowspan=\"3\" valign=\"top\">support</th>\n",
              "      <th>high</th>\n",
              "      <td>0.655035</td>\n",
              "      <td>0.714113</td>\n",
              "      <td>3.794326</td>\n",
              "      <td>203.985816</td>\n",
              "      <td>3.219858</td>\n",
              "      <td>0.219858</td>\n",
              "      <td>0.056738</td>\n",
              "      <td>0.000000</td>\n",
              "    </tr>\n",
              "    <tr>\n",
              "      <th>low</th>\n",
              "      <td>0.591710</td>\n",
              "      <td>0.719494</td>\n",
              "      <td>3.787086</td>\n",
              "      <td>198.900524</td>\n",
              "      <td>3.484293</td>\n",
              "      <td>0.151832</td>\n",
              "      <td>0.339442</td>\n",
              "      <td>0.006108</td>\n",
              "    </tr>\n",
              "    <tr>\n",
              "      <th>medium</th>\n",
              "      <td>0.645149</td>\n",
              "      <td>0.728854</td>\n",
              "      <td>3.825902</td>\n",
              "      <td>202.535032</td>\n",
              "      <td>3.307856</td>\n",
              "      <td>0.148620</td>\n",
              "      <td>0.167728</td>\n",
              "      <td>0.013800</td>\n",
              "    </tr>\n",
              "    <tr>\n",
              "      <th rowspan=\"3\" valign=\"top\">technical</th>\n",
              "      <th>high</th>\n",
              "      <td>0.625970</td>\n",
              "      <td>0.699453</td>\n",
              "      <td>3.651741</td>\n",
              "      <td>200.044776</td>\n",
              "      <td>3.313433</td>\n",
              "      <td>0.149254</td>\n",
              "      <td>0.124378</td>\n",
              "      <td>0.004975</td>\n",
              "    </tr>\n",
              "    <tr>\n",
              "      <th>low</th>\n",
              "      <td>0.594322</td>\n",
              "      <td>0.723367</td>\n",
              "      <td>3.910350</td>\n",
              "      <td>203.064869</td>\n",
              "      <td>3.397230</td>\n",
              "      <td>0.142128</td>\n",
              "      <td>0.275510</td>\n",
              "      <td>0.008746</td>\n",
              "    </tr>\n",
              "    <tr>\n",
              "      <th>medium</th>\n",
              "      <td>0.620968</td>\n",
              "      <td>0.722180</td>\n",
              "      <td>3.878814</td>\n",
              "      <td>202.248474</td>\n",
              "      <td>3.445510</td>\n",
              "      <td>0.136007</td>\n",
              "      <td>0.256321</td>\n",
              "      <td>0.013078</td>\n",
              "    </tr>\n",
              "  </tbody>\n",
              "</table>\n",
              "</div>"
            ],
            "text/plain": [
              "                    satisfaction_level  ...  promotion_last_5years\n",
              "Department  salary                      ...                       \n",
              "IT          high              0.638193  ...               0.000000\n",
              "            low               0.610099  ...               0.003284\n",
              "            medium            0.624187  ...               0.001869\n",
              "RandD       high              0.586667  ...               0.019608\n",
              "            low               0.623929  ...               0.008242\n",
              "            medium            0.620349  ...               0.061828\n",
              "accounting  high              0.614054  ...               0.081081\n",
              "            low               0.574162  ...               0.005587\n",
              "            medium            0.583642  ...               0.017910\n",
              "hr          high              0.673111  ...               0.044444\n",
              "            low               0.608657  ...               0.005970\n",
              "            medium            0.580306  ...               0.030641\n",
              "management  high              0.653333  ...               0.200000\n",
              "            low               0.610722  ...               0.038889\n",
              "            medium            0.597867  ...               0.075556\n",
              "marketing   high              0.605250  ...               0.062500\n",
              "            low               0.602910  ...               0.027363\n",
              "            medium            0.638218  ...               0.071809\n",
              "product_mng high              0.614118  ...               0.000000\n",
              "            low               0.620909  ...               0.000000\n",
              "            medium            0.619112  ...               0.000000\n",
              "sales       high              0.648959  ...               0.044610\n",
              "            low               0.600838  ...               0.009528\n",
              "            medium            0.625327  ...               0.038375\n",
              "support     high              0.655035  ...               0.000000\n",
              "            low               0.591710  ...               0.006108\n",
              "            medium            0.645149  ...               0.013800\n",
              "technical   high              0.625970  ...               0.004975\n",
              "            low               0.594322  ...               0.008746\n",
              "            medium            0.620968  ...               0.013078\n",
              "\n",
              "[30 rows x 8 columns]"
            ]
          },
          "metadata": {
            "tags": []
          },
          "execution_count": 12
        }
      ]
    },
    {
      "cell_type": "code",
      "metadata": {
        "id": "edSQRe-Qlrvq",
        "colab_type": "code",
        "colab": {
          "base_uri": "https://localhost:8080/",
          "height": 610
        },
        "outputId": "cb232fb1-9ee6-4c61-d0a3-4673fffc8071"
      },
      "source": [
        "df.groupby([\"number_project\" , \"salary\"]).mean()"
      ],
      "execution_count": 13,
      "outputs": [
        {
          "output_type": "execute_result",
          "data": {
            "text/html": [
              "<div>\n",
              "<style scoped>\n",
              "    .dataframe tbody tr th:only-of-type {\n",
              "        vertical-align: middle;\n",
              "    }\n",
              "\n",
              "    .dataframe tbody tr th {\n",
              "        vertical-align: top;\n",
              "    }\n",
              "\n",
              "    .dataframe thead th {\n",
              "        text-align: right;\n",
              "    }\n",
              "</style>\n",
              "<table border=\"1\" class=\"dataframe\">\n",
              "  <thead>\n",
              "    <tr style=\"text-align: right;\">\n",
              "      <th></th>\n",
              "      <th></th>\n",
              "      <th>satisfaction_level</th>\n",
              "      <th>last_evaluation</th>\n",
              "      <th>average_montly_hours</th>\n",
              "      <th>time_spend_company</th>\n",
              "      <th>Work_accident</th>\n",
              "      <th>left</th>\n",
              "      <th>promotion_last_5years</th>\n",
              "    </tr>\n",
              "    <tr>\n",
              "      <th>number_project</th>\n",
              "      <th>salary</th>\n",
              "      <th></th>\n",
              "      <th></th>\n",
              "      <th></th>\n",
              "      <th></th>\n",
              "      <th></th>\n",
              "      <th></th>\n",
              "      <th></th>\n",
              "    </tr>\n",
              "  </thead>\n",
              "  <tbody>\n",
              "    <tr>\n",
              "      <th rowspan=\"3\" valign=\"top\">2</th>\n",
              "      <th>high</th>\n",
              "      <td>0.523357</td>\n",
              "      <td>0.617286</td>\n",
              "      <td>168.800000</td>\n",
              "      <td>3.407143</td>\n",
              "      <td>0.114286</td>\n",
              "      <td>0.328571</td>\n",
              "      <td>0.050000</td>\n",
              "    </tr>\n",
              "    <tr>\n",
              "      <th>low</th>\n",
              "      <td>0.470275</td>\n",
              "      <td>0.561540</td>\n",
              "      <td>159.134673</td>\n",
              "      <td>3.142113</td>\n",
              "      <td>0.085565</td>\n",
              "      <td>0.718750</td>\n",
              "      <td>0.008929</td>\n",
              "    </tr>\n",
              "    <tr>\n",
              "      <th>medium</th>\n",
              "      <td>0.484491</td>\n",
              "      <td>0.571305</td>\n",
              "      <td>160.828540</td>\n",
              "      <td>3.202434</td>\n",
              "      <td>0.100664</td>\n",
              "      <td>0.613938</td>\n",
              "      <td>0.019912</td>\n",
              "    </tr>\n",
              "    <tr>\n",
              "      <th rowspan=\"3\" valign=\"top\">3</th>\n",
              "      <th>high</th>\n",
              "      <td>0.686985</td>\n",
              "      <td>0.718554</td>\n",
              "      <td>201.360294</td>\n",
              "      <td>3.654412</td>\n",
              "      <td>0.174020</td>\n",
              "      <td>0.007353</td>\n",
              "      <td>0.061275</td>\n",
              "    </tr>\n",
              "    <tr>\n",
              "      <th>low</th>\n",
              "      <td>0.683881</td>\n",
              "      <td>0.716857</td>\n",
              "      <td>196.793412</td>\n",
              "      <td>3.177554</td>\n",
              "      <td>0.180346</td>\n",
              "      <td>0.020659</td>\n",
              "      <td>0.013959</td>\n",
              "    </tr>\n",
              "    <tr>\n",
              "      <th>medium</th>\n",
              "      <td>0.691476</td>\n",
              "      <td>0.715862</td>\n",
              "      <td>197.349677</td>\n",
              "      <td>3.310884</td>\n",
              "      <td>0.170259</td>\n",
              "      <td>0.017241</td>\n",
              "      <td>0.024246</td>\n",
              "    </tr>\n",
              "    <tr>\n",
              "      <th rowspan=\"3\" valign=\"top\">4</th>\n",
              "      <th>high</th>\n",
              "      <td>0.685435</td>\n",
              "      <td>0.705190</td>\n",
              "      <td>203.375000</td>\n",
              "      <td>3.644022</td>\n",
              "      <td>0.138587</td>\n",
              "      <td>0.005435</td>\n",
              "      <td>0.062500</td>\n",
              "    </tr>\n",
              "    <tr>\n",
              "      <th>low</th>\n",
              "      <td>0.697322</td>\n",
              "      <td>0.742971</td>\n",
              "      <td>206.056061</td>\n",
              "      <td>3.377096</td>\n",
              "      <td>0.166747</td>\n",
              "      <td>0.119310</td>\n",
              "      <td>0.010062</td>\n",
              "    </tr>\n",
              "    <tr>\n",
              "      <th>medium</th>\n",
              "      <td>0.694607</td>\n",
              "      <td>0.743482</td>\n",
              "      <td>204.438220</td>\n",
              "      <td>3.503665</td>\n",
              "      <td>0.148691</td>\n",
              "      <td>0.082723</td>\n",
              "      <td>0.038220</td>\n",
              "    </tr>\n",
              "    <tr>\n",
              "      <th rowspan=\"3\" valign=\"top\">5</th>\n",
              "      <th>high</th>\n",
              "      <td>0.632694</td>\n",
              "      <td>0.722816</td>\n",
              "      <td>206.746939</td>\n",
              "      <td>3.726531</td>\n",
              "      <td>0.187755</td>\n",
              "      <td>0.061224</td>\n",
              "      <td>0.053061</td>\n",
              "    </tr>\n",
              "    <tr>\n",
              "      <th>low</th>\n",
              "      <td>0.689150</td>\n",
              "      <td>0.778352</td>\n",
              "      <td>212.885345</td>\n",
              "      <td>3.809415</td>\n",
              "      <td>0.135915</td>\n",
              "      <td>0.281701</td>\n",
              "      <td>0.003037</td>\n",
              "    </tr>\n",
              "    <tr>\n",
              "      <th>medium</th>\n",
              "      <td>0.677056</td>\n",
              "      <td>0.752068</td>\n",
              "      <td>212.242702</td>\n",
              "      <td>3.804837</td>\n",
              "      <td>0.159299</td>\n",
              "      <td>0.188490</td>\n",
              "      <td>0.027523</td>\n",
              "    </tr>\n",
              "    <tr>\n",
              "      <th rowspan=\"3\" valign=\"top\">6</th>\n",
              "      <th>high</th>\n",
              "      <td>0.375753</td>\n",
              "      <td>0.719315</td>\n",
              "      <td>206.630137</td>\n",
              "      <td>4.575342</td>\n",
              "      <td>0.109589</td>\n",
              "      <td>0.178082</td>\n",
              "      <td>0.054795</td>\n",
              "    </tr>\n",
              "    <tr>\n",
              "      <th>low</th>\n",
              "      <td>0.251469</td>\n",
              "      <td>0.801596</td>\n",
              "      <td>242.791469</td>\n",
              "      <td>4.083728</td>\n",
              "      <td>0.116904</td>\n",
              "      <td>0.639810</td>\n",
              "      <td>0.006319</td>\n",
              "    </tr>\n",
              "    <tr>\n",
              "      <th>medium</th>\n",
              "      <td>0.287244</td>\n",
              "      <td>0.776688</td>\n",
              "      <td>238.153846</td>\n",
              "      <td>4.279915</td>\n",
              "      <td>0.111111</td>\n",
              "      <td>0.506410</td>\n",
              "      <td>0.025641</td>\n",
              "    </tr>\n",
              "    <tr>\n",
              "      <th rowspan=\"3\" valign=\"top\">7</th>\n",
              "      <th>high</th>\n",
              "      <td>0.103333</td>\n",
              "      <td>0.850000</td>\n",
              "      <td>290.000000</td>\n",
              "      <td>4.000000</td>\n",
              "      <td>0.000000</td>\n",
              "      <td>1.000000</td>\n",
              "      <td>0.000000</td>\n",
              "    </tr>\n",
              "    <tr>\n",
              "      <th>low</th>\n",
              "      <td>0.112014</td>\n",
              "      <td>0.861250</td>\n",
              "      <td>278.201389</td>\n",
              "      <td>4.097222</td>\n",
              "      <td>0.006944</td>\n",
              "      <td>1.000000</td>\n",
              "      <td>0.000000</td>\n",
              "    </tr>\n",
              "    <tr>\n",
              "      <th>medium</th>\n",
              "      <td>0.127982</td>\n",
              "      <td>0.857706</td>\n",
              "      <td>272.889908</td>\n",
              "      <td>4.137615</td>\n",
              "      <td>0.027523</td>\n",
              "      <td>1.000000</td>\n",
              "      <td>0.000000</td>\n",
              "    </tr>\n",
              "  </tbody>\n",
              "</table>\n",
              "</div>"
            ],
            "text/plain": [
              "                       satisfaction_level  ...  promotion_last_5years\n",
              "number_project salary                      ...                       \n",
              "2              high              0.523357  ...               0.050000\n",
              "               low               0.470275  ...               0.008929\n",
              "               medium            0.484491  ...               0.019912\n",
              "3              high              0.686985  ...               0.061275\n",
              "               low               0.683881  ...               0.013959\n",
              "               medium            0.691476  ...               0.024246\n",
              "4              high              0.685435  ...               0.062500\n",
              "               low               0.697322  ...               0.010062\n",
              "               medium            0.694607  ...               0.038220\n",
              "5              high              0.632694  ...               0.053061\n",
              "               low               0.689150  ...               0.003037\n",
              "               medium            0.677056  ...               0.027523\n",
              "6              high              0.375753  ...               0.054795\n",
              "               low               0.251469  ...               0.006319\n",
              "               medium            0.287244  ...               0.025641\n",
              "7              high              0.103333  ...               0.000000\n",
              "               low               0.112014  ...               0.000000\n",
              "               medium            0.127982  ...               0.000000\n",
              "\n",
              "[18 rows x 7 columns]"
            ]
          },
          "metadata": {
            "tags": []
          },
          "execution_count": 13
        }
      ]
    },
    {
      "cell_type": "markdown",
      "metadata": {
        "id": "k6DbQx1Jlrvz",
        "colab_type": "text"
      },
      "source": [
        "# Count Analysis"
      ]
    },
    {
      "cell_type": "markdown",
      "metadata": {
        "id": "SfECfo3plrv0",
        "colab_type": "text"
      },
      "source": [
        "### Analysis of Salary with overall Data"
      ]
    },
    {
      "cell_type": "code",
      "metadata": {
        "id": "u8HPTKHDlrv2",
        "colab_type": "code",
        "colab": {
          "base_uri": "https://localhost:8080/",
          "height": 296
        },
        "outputId": "7cab02c9-c322-4268-9ecd-1274d46c6578"
      },
      "source": [
        "snb.countplot(data = df , x = 'salary')"
      ],
      "execution_count": 14,
      "outputs": [
        {
          "output_type": "execute_result",
          "data": {
            "text/plain": [
              "<matplotlib.axes._subplots.AxesSubplot at 0x7fc8684b1128>"
            ]
          },
          "metadata": {
            "tags": []
          },
          "execution_count": 14
        },
        {
          "output_type": "display_data",
          "data": {
            "image/png": "[encoded data removed]",
            "text/plain": [
              "<Figure size 432x288 with 1 Axes>"
            ]
          },
          "metadata": {
            "tags": [],
            "needs_background": "light"
          }
        }
      ]
    },
    {
      "cell_type": "markdown",
      "metadata": {
        "id": "CIRuE8xrlrwB",
        "colab_type": "text"
      },
      "source": [
        "#### Report\n",
        "We can see that most number of employees are under the catagory of LOW salary.\n",
        "Also we can interpret that there are relatively lower number of employees whose sa'lary is consider as HIGH.\n",
        "We can sense this information naturally becouse people with high salary works on higher level which manages number of employees under them.So the intution gain from the data is right.\n",
        "\n",
        "\n",
        "\n"
      ]
    },
    {
      "cell_type": "markdown",
      "metadata": {
        "id": "8-_leT9FlrwG",
        "colab_type": "text"
      },
      "source": [
        "\n",
        "\n",
        "\n",
        "\n",
        "\n",
        "### Analysis of Department with overall Data"
      ]
    },
    {
      "cell_type": "code",
      "metadata": {
        "id": "4FomNG1ilrwI",
        "colab_type": "code",
        "colab": {
          "base_uri": "https://localhost:8080/",
          "height": 515
        },
        "outputId": "e70d90b0-8ff6-4b75-b267-3bb8e04f444f"
      },
      "source": [
        "plt.figure(figsize=(15,8))\n",
        "snb.countplot(data = df , x = 'Department')"
      ],
      "execution_count": 15,
      "outputs": [
        {
          "output_type": "execute_result",
          "data": {
            "text/plain": [
              "<matplotlib.axes._subplots.AxesSubplot at 0x7fc8683c43c8>"
            ]
          },
          "metadata": {
            "tags": []
          },
          "execution_count": 15
        },
        {
          "output_type": "display_data",
          "data": {
            "image/png": "[encoded data removed]",
            "text/plain": [
              "<Figure size 1080x576 with 1 Axes>"
            ]
          },
          "metadata": {
            "tags": [],
            "needs_background": "light"
          }
        }
      ]
    },
    {
      "cell_type": "markdown",
      "metadata": {
        "id": "GdZe8xnllrwR",
        "colab_type": "text"
      },
      "source": [
        "#### Report\n",
        "The insight we gain from the above graph is number of employees working under the Sales department is highest.\n",
        "By this graph we can know and compare the workforces under different Department."
      ]
    },
    {
      "cell_type": "markdown",
      "metadata": {
        "id": "oJITdaR4lrwS",
        "colab_type": "text"
      },
      "source": [
        "### Analysis of Departments with Salary"
      ]
    },
    {
      "cell_type": "code",
      "metadata": {
        "id": "TjDVsBOPlrwU",
        "colab_type": "code",
        "colab": {
          "base_uri": "https://localhost:8080/",
          "height": 0
        },
        "outputId": "a8d6ecdc-fcfc-41be-fdbc-bce0f24c740d"
      },
      "source": [
        "plt.figure(figsize=(15,8))\n",
        "snb.countplot(data = df , x = 'Department',hue=\"salary\")"
      ],
      "execution_count": 16,
      "outputs": [
        {
          "output_type": "execute_result",
          "data": {
            "text/plain": [
              "<matplotlib.axes._subplots.AxesSubplot at 0x7fc867ebd198>"
            ]
          },
          "metadata": {
            "tags": []
          },
          "execution_count": 16
        },
        {
          "output_type": "display_data",
          "data": {
            "image/png": "[encoded data removed]",
            "text/plain": [
              "<Figure size 1080x576 with 1 Axes>"
            ]
          },
          "metadata": {
            "tags": [],
            "needs_background": "light"
          }
        }
      ]
    },
    {
      "cell_type": "markdown",
      "metadata": {
        "id": "_ToXfK8Ilrwc",
        "colab_type": "text"
      },
      "source": [
        "#### Report\n",
        "By the above graph we can analyse salary distribution of workforces under different Departments."
      ]
    },
    {
      "cell_type": "markdown",
      "metadata": {
        "id": "dnqrn37Ilrwd",
        "colab_type": "text"
      },
      "source": [
        "### Analysing relation between number of projects with salary"
      ]
    },
    {
      "cell_type": "code",
      "metadata": {
        "id": "mykuT0crlrwe",
        "colab_type": "code",
        "colab": {
          "base_uri": "https://localhost:8080/",
          "height": 0
        },
        "outputId": "57a2b806-eefe-4dd2-cd15-6ce72ab7e690"
      },
      "source": [
        "plt.figure(figsize=(15,8))\n",
        "snb.countplot(data = df , x = 'number_project',hue=\"salary\")"
      ],
      "execution_count": 17,
      "outputs": [
        {
          "output_type": "execute_result",
          "data": {
            "text/plain": [
              "<matplotlib.axes._subplots.AxesSubplot at 0x7fc867f2ac88>"
            ]
          },
          "metadata": {
            "tags": []
          },
          "execution_count": 17
        },
        {
          "output_type": "display_data",
          "data": {
            "image/png": "[encoded data removed]",
            "text/plain": [
              "<Figure size 1080x576 with 1 Axes>"
            ]
          },
          "metadata": {
            "tags": [],
            "needs_background": "light"
          }
        }
      ]
    },
    {
      "cell_type": "markdown",
      "metadata": {
        "id": "zi0__vc_lrwp",
        "colab_type": "text"
      },
      "source": [
        "#### Report\n",
        "We can see here the most common number of projects handled by workers are 4 and 5.\n",
        "Here we can also see that most number of workers under project are catogarized under Low salary tag"
      ]
    },
    {
      "cell_type": "markdown",
      "metadata": {
        "id": "lrWZrTKZlrwr",
        "colab_type": "text"
      },
      "source": [
        "### Analysing relationship betwwen number of project with individual Departments"
      ]
    },
    {
      "cell_type": "code",
      "metadata": {
        "id": "lJ5615aVlrwt",
        "colab_type": "code",
        "colab": {
          "base_uri": "https://localhost:8080/",
          "height": 0
        },
        "outputId": "29d4b7cc-1612-46c6-9149-785b75a5ca0c"
      },
      "source": [
        "plt.figure(figsize=(18,10))\n",
        "snb.countplot(data = df , x = 'number_project',hue=\"Department\")"
      ],
      "execution_count": 18,
      "outputs": [
        {
          "output_type": "execute_result",
          "data": {
            "text/plain": [
              "<matplotlib.axes._subplots.AxesSubplot at 0x7fc867d77588>"
            ]
          },
          "metadata": {
            "tags": []
          },
          "execution_count": 18
        },
        {
          "output_type": "display_data",
          "data": {
            "image/png": "[encoded data removed]",
            "text/plain": [
              "<Figure size 1296x720 with 1 Axes>"
            ]
          },
          "metadata": {
            "tags": [],
            "needs_background": "light"
          }
        }
      ]
    },
    {
      "cell_type": "markdown",
      "metadata": {
        "id": "vcYvwT6jlrw2",
        "colab_type": "text"
      },
      "source": [
        "#### Report\n",
        "Here we comapare that which department as how many projects undergoing with their count."
      ]
    },
    {
      "cell_type": "markdown",
      "metadata": {
        "id": "R6yybGCklrw5",
        "colab_type": "text"
      },
      "source": [
        "### Analysing ralationship between time spend in company with their current salary tag"
      ]
    },
    {
      "cell_type": "code",
      "metadata": {
        "id": "7KnKQgG4lrw7",
        "colab_type": "code",
        "colab": {
          "base_uri": "https://localhost:8080/",
          "height": 0
        },
        "outputId": "6cd0c895-0959-4bde-d5e6-582bb0b76855"
      },
      "source": [
        "plt.figure(figsize=(18,10))\n",
        "snb.countplot(data = df , x = 'salary',hue=\"time_spend_company\")"
      ],
      "execution_count": 19,
      "outputs": [
        {
          "output_type": "execute_result",
          "data": {
            "text/plain": [
              "<matplotlib.axes._subplots.AxesSubplot at 0x7fc867f3a6a0>"
            ]
          },
          "metadata": {
            "tags": []
          },
          "execution_count": 19
        },
        {
          "output_type": "display_data",
          "data": {
            "image/png": "[encoded data removed]",
            "text/plain": [
              "<Figure size 1296x720 with 1 Axes>"
            ]
          },
          "metadata": {
            "tags": [],
            "needs_background": "light"
          }
        }
      ]
    },
    {
      "cell_type": "markdown",
      "metadata": {
        "id": "twlpxIsKlrxE",
        "colab_type": "text"
      },
      "source": [
        "#### Report\n",
        "Here we can see that for every salary tag the most number of employees are of 3 year of experience in the company.\n",
        "A major workforce had spend 3 years in the same company. "
      ]
    },
    {
      "cell_type": "markdown",
      "metadata": {
        "id": "x8OL4rhklrxF",
        "colab_type": "text"
      },
      "source": [
        "### Analysing Work Accident data"
      ]
    },
    {
      "cell_type": "code",
      "metadata": {
        "id": "8ba0P5y-lrxG",
        "colab_type": "code",
        "colab": {
          "base_uri": "https://localhost:8080/",
          "height": 0
        },
        "outputId": "caf5a053-fa9e-4972-a56e-730eba21f617"
      },
      "source": [
        "plt.figure(figsize=(18,10))\n",
        "df1 = df[df[\"Work_accident\"]==1]\n",
        "snb.countplot(data = df1 , x = 'Work_accident',hue=\"Department\")"
      ],
      "execution_count": 20,
      "outputs": [
        {
          "output_type": "execute_result",
          "data": {
            "text/plain": [
              "<matplotlib.axes._subplots.AxesSubplot at 0x7fc867e5a240>"
            ]
          },
          "metadata": {
            "tags": []
          },
          "execution_count": 20
        },
        {
          "output_type": "display_data",
          "data": {
            "image/png": "[encoded data removed]",
            "text/plain": [
              "<Figure size 1296x720 with 1 Axes>"
            ]
          },
          "metadata": {
            "tags": [],
            "needs_background": "light"
          }
        }
      ]
    },
    {
      "cell_type": "markdown",
      "metadata": {
        "id": "wvokW0FolrxO",
        "colab_type": "text"
      },
      "source": [
        "#### Report\n",
        "Here we can see that Most number of work accident that happened in company is from the Sales Department.\n"
      ]
    },
    {
      "cell_type": "markdown",
      "metadata": {
        "id": "YztA2BEJlrxP",
        "colab_type": "text"
      },
      "source": [
        "### Analysing number of Promotion in various Department"
      ]
    },
    {
      "cell_type": "code",
      "metadata": {
        "id": "DuXh-5CDlrxR",
        "colab_type": "code",
        "colab": {
          "base_uri": "https://localhost:8080/",
          "height": 0
        },
        "outputId": "bcd45ee2-abea-4aab-a430-b50cb26f7b2a"
      },
      "source": [
        "plt.figure(figsize=(18,10))\n",
        "df1 = df[df[\"promotion_last_5years\"]==1]\n",
        "snb.countplot(data = df1 , x = 'promotion_last_5years',hue=\"Department\")"
      ],
      "execution_count": 21,
      "outputs": [
        {
          "output_type": "execute_result",
          "data": {
            "text/plain": [
              "<matplotlib.axes._subplots.AxesSubplot at 0x7fc867cf4128>"
            ]
          },
          "metadata": {
            "tags": []
          },
          "execution_count": 21
        },
        {
          "output_type": "display_data",
          "data": {
            "image/png": "[encoded data removed]",
            "text/plain": [
              "<Figure size 1296x720 with 1 Axes>"
            ]
          },
          "metadata": {
            "tags": [],
            "needs_background": "light"
          }
        }
      ]
    },
    {
      "cell_type": "markdown",
      "metadata": {
        "id": "25SpHCDClrxY",
        "colab_type": "text"
      },
      "source": [
        "#### Report\n",
        "Here we can see that Most number of Promotion given in last 5 years are from sales department and lowest are from IT Department"
      ]
    },
    {
      "cell_type": "markdown",
      "metadata": {
        "id": "wfD4MbIzlrxa",
        "colab_type": "text"
      },
      "source": [
        "# Boxplot Analysis"
      ]
    },
    {
      "cell_type": "code",
      "metadata": {
        "id": "k2jKtfoulrxb",
        "colab_type": "code",
        "colab": {
          "base_uri": "https://localhost:8080/",
          "height": 343
        },
        "outputId": "6a777d8e-6d50-49ae-ab2e-3c2b839023ea"
      },
      "source": [
        "df.head(10)"
      ],
      "execution_count": 22,
      "outputs": [
        {
          "output_type": "execute_result",
          "data": {
            "text/html": [
              "<div>\n",
              "<style scoped>\n",
              "    .dataframe tbody tr th:only-of-type {\n",
              "        vertical-align: middle;\n",
              "    }\n",
              "\n",
              "    .dataframe tbody tr th {\n",
              "        vertical-align: top;\n",
              "    }\n",
              "\n",
              "    .dataframe thead th {\n",
              "        text-align: right;\n",
              "    }\n",
              "</style>\n",
              "<table border=\"1\" class=\"dataframe\">\n",
              "  <thead>\n",
              "    <tr style=\"text-align: right;\">\n",
              "      <th></th>\n",
              "      <th>satisfaction_level</th>\n",
              "      <th>last_evaluation</th>\n",
              "      <th>number_project</th>\n",
              "      <th>average_montly_hours</th>\n",
              "      <th>time_spend_company</th>\n",
              "      <th>Work_accident</th>\n",
              "      <th>left</th>\n",
              "      <th>promotion_last_5years</th>\n",
              "      <th>Department</th>\n",
              "      <th>salary</th>\n",
              "    </tr>\n",
              "  </thead>\n",
              "  <tbody>\n",
              "    <tr>\n",
              "      <th>0</th>\n",
              "      <td>0.38</td>\n",
              "      <td>0.53</td>\n",
              "      <td>2</td>\n",
              "      <td>157</td>\n",
              "      <td>3</td>\n",
              "      <td>0</td>\n",
              "      <td>1</td>\n",
              "      <td>0</td>\n",
              "      <td>sales</td>\n",
              "      <td>low</td>\n",
              "    </tr>\n",
              "    <tr>\n",
              "      <th>1</th>\n",
              "      <td>0.80</td>\n",
              "      <td>0.86</td>\n",
              "      <td>5</td>\n",
              "      <td>262</td>\n",
              "      <td>6</td>\n",
              "      <td>0</td>\n",
              "      <td>1</td>\n",
              "      <td>0</td>\n",
              "      <td>sales</td>\n",
              "      <td>medium</td>\n",
              "    </tr>\n",
              "    <tr>\n",
              "      <th>2</th>\n",
              "      <td>0.11</td>\n",
              "      <td>0.88</td>\n",
              "      <td>7</td>\n",
              "      <td>272</td>\n",
              "      <td>4</td>\n",
              "      <td>0</td>\n",
              "      <td>1</td>\n",
              "      <td>0</td>\n",
              "      <td>sales</td>\n",
              "      <td>medium</td>\n",
              "    </tr>\n",
              "    <tr>\n",
              "      <th>3</th>\n",
              "      <td>0.72</td>\n",
              "      <td>0.87</td>\n",
              "      <td>5</td>\n",
              "      <td>223</td>\n",
              "      <td>5</td>\n",
              "      <td>0</td>\n",
              "      <td>1</td>\n",
              "      <td>0</td>\n",
              "      <td>sales</td>\n",
              "      <td>low</td>\n",
              "    </tr>\n",
              "    <tr>\n",
              "      <th>4</th>\n",
              "      <td>0.37</td>\n",
              "      <td>0.52</td>\n",
              "      <td>2</td>\n",
              "      <td>159</td>\n",
              "      <td>3</td>\n",
              "      <td>0</td>\n",
              "      <td>1</td>\n",
              "      <td>0</td>\n",
              "      <td>sales</td>\n",
              "      <td>low</td>\n",
              "    </tr>\n",
              "    <tr>\n",
              "      <th>5</th>\n",
              "      <td>0.41</td>\n",
              "      <td>0.50</td>\n",
              "      <td>2</td>\n",
              "      <td>153</td>\n",
              "      <td>3</td>\n",
              "      <td>0</td>\n",
              "      <td>1</td>\n",
              "      <td>0</td>\n",
              "      <td>sales</td>\n",
              "      <td>low</td>\n",
              "    </tr>\n",
              "    <tr>\n",
              "      <th>6</th>\n",
              "      <td>0.10</td>\n",
              "      <td>0.77</td>\n",
              "      <td>6</td>\n",
              "      <td>247</td>\n",
              "      <td>4</td>\n",
              "      <td>0</td>\n",
              "      <td>1</td>\n",
              "      <td>0</td>\n",
              "      <td>sales</td>\n",
              "      <td>low</td>\n",
              "    </tr>\n",
              "    <tr>\n",
              "      <th>7</th>\n",
              "      <td>0.92</td>\n",
              "      <td>0.85</td>\n",
              "      <td>5</td>\n",
              "      <td>259</td>\n",
              "      <td>5</td>\n",
              "      <td>0</td>\n",
              "      <td>1</td>\n",
              "      <td>0</td>\n",
              "      <td>sales</td>\n",
              "      <td>low</td>\n",
              "    </tr>\n",
              "    <tr>\n",
              "      <th>8</th>\n",
              "      <td>0.89</td>\n",
              "      <td>1.00</td>\n",
              "      <td>5</td>\n",
              "      <td>224</td>\n",
              "      <td>5</td>\n",
              "      <td>0</td>\n",
              "      <td>1</td>\n",
              "      <td>0</td>\n",
              "      <td>sales</td>\n",
              "      <td>low</td>\n",
              "    </tr>\n",
              "    <tr>\n",
              "      <th>9</th>\n",
              "      <td>0.42</td>\n",
              "      <td>0.53</td>\n",
              "      <td>2</td>\n",
              "      <td>142</td>\n",
              "      <td>3</td>\n",
              "      <td>0</td>\n",
              "      <td>1</td>\n",
              "      <td>0</td>\n",
              "      <td>sales</td>\n",
              "      <td>low</td>\n",
              "    </tr>\n",
              "  </tbody>\n",
              "</table>\n",
              "</div>"
            ],
            "text/plain": [
              "   satisfaction_level  last_evaluation  ...  Department  salary\n",
              "0                0.38             0.53  ...       sales     low\n",
              "1                0.80             0.86  ...       sales  medium\n",
              "2                0.11             0.88  ...       sales  medium\n",
              "3                0.72             0.87  ...       sales     low\n",
              "4                0.37             0.52  ...       sales     low\n",
              "5                0.41             0.50  ...       sales     low\n",
              "6                0.10             0.77  ...       sales     low\n",
              "7                0.92             0.85  ...       sales     low\n",
              "8                0.89             1.00  ...       sales     low\n",
              "9                0.42             0.53  ...       sales     low\n",
              "\n",
              "[10 rows x 10 columns]"
            ]
          },
          "metadata": {
            "tags": []
          },
          "execution_count": 22
        }
      ]
    },
    {
      "cell_type": "markdown",
      "metadata": {
        "id": "4USz5KTGlrxj",
        "colab_type": "text"
      },
      "source": [
        "### Analysing satisfaction range with salary"
      ]
    },
    {
      "cell_type": "code",
      "metadata": {
        "id": "0ZakYw8Llrxk",
        "colab_type": "code",
        "colab": {
          "base_uri": "https://localhost:8080/",
          "height": 0
        },
        "outputId": "03783cce-392d-43e0-af8e-5f2877183722"
      },
      "source": [
        "plt.figure(figsize=(8,7))\n",
        "snb.boxplot( y = 'satisfaction_level' ,x ='salary' , data = df)"
      ],
      "execution_count": 23,
      "outputs": [
        {
          "output_type": "execute_result",
          "data": {
            "text/plain": [
              "<matplotlib.axes._subplots.AxesSubplot at 0x7fc867a77358>"
            ]
          },
          "metadata": {
            "tags": []
          },
          "execution_count": 23
        },
        {
          "output_type": "display_data",
          "data": {
            "image/png": "[encoded data removed]",
            "text/plain": [
              "<Figure size 576x504 with 1 Axes>"
            ]
          },
          "metadata": {
            "tags": [],
            "needs_background": "light"
          }
        }
      ]
    },
    {
      "cell_type": "markdown",
      "metadata": {
        "id": "uBwLXwI7lrxv",
        "colab_type": "text"
      },
      "source": [
        "#### Report\n",
        "Here we can analyse that average number of employees with low salary tag are less satisfied relative to the salary tag HIGH"
      ]
    },
    {
      "cell_type": "markdown",
      "metadata": {
        "id": "tF75P_34lrxx",
        "colab_type": "text"
      },
      "source": [
        "### Analysing range of average working hours under various Department"
      ]
    },
    {
      "cell_type": "code",
      "metadata": {
        "id": "tAGyJzjxlrxz",
        "colab_type": "code",
        "colab": {
          "base_uri": "https://localhost:8080/",
          "height": 0
        },
        "outputId": "8c544a07-832e-4b90-dfea-0c21cd51e391"
      },
      "source": [
        "plt.figure(figsize=(15,7))\n",
        "snb.boxplot( y = 'average_montly_hours' ,x ='Department' , data = df)\n",
        "plt.xticks( rotation = -45)"
      ],
      "execution_count": 24,
      "outputs": [
        {
          "output_type": "execute_result",
          "data": {
            "text/plain": [
              "(array([0, 1, 2, 3, 4, 5, 6, 7, 8, 9]),\n",
              " <a list of 10 Text major ticklabel objects>)"
            ]
          },
          "metadata": {
            "tags": []
          },
          "execution_count": 24
        },
        {
          "output_type": "display_data",
          "data": {
            "image/png": "[encoded data removed]",
            "text/plain": [
              "<Figure size 1080x504 with 1 Axes>"
            ]
          },
          "metadata": {
            "tags": [],
            "needs_background": "light"
          }
        }
      ]
    },
    {
      "cell_type": "markdown",
      "metadata": {
        "id": "BRD5z9v1lrx-",
        "colab_type": "text"
      },
      "source": [
        "#### Report\n",
        "Here we can see that almost every department works for same duration of time."
      ]
    },
    {
      "cell_type": "markdown",
      "metadata": {
        "id": "YqfufdZBlryA",
        "colab_type": "text"
      },
      "source": [
        "### Analysing Satisfaction with year spend in company"
      ]
    },
    {
      "cell_type": "code",
      "metadata": {
        "id": "ANdyNlotlryB",
        "colab_type": "code",
        "colab": {
          "base_uri": "https://localhost:8080/",
          "height": 0
        },
        "outputId": "1cbf9994-1663-421d-f5b8-a4f63deb6897"
      },
      "source": [
        "plt.figure(figsize=(15,7))\n",
        "snb.boxplot( y = 'satisfaction_level' ,x ='time_spend_company' , data = df)\n",
        "plt.xticks( rotation = -45)"
      ],
      "execution_count": 25,
      "outputs": [
        {
          "output_type": "execute_result",
          "data": {
            "text/plain": [
              "(array([0, 1, 2, 3, 4, 5, 6, 7]), <a list of 8 Text major ticklabel objects>)"
            ]
          },
          "metadata": {
            "tags": []
          },
          "execution_count": 25
        },
        {
          "output_type": "display_data",
          "data": {
            "image/png": "[encoded data removed]",
            "text/plain": [
              "<Figure size 1080x504 with 1 Axes>"
            ]
          },
          "metadata": {
            "tags": [],
            "needs_background": "light"
          }
        }
      ]
    },
    {
      "cell_type": "markdown",
      "metadata": {
        "id": "EGhH3qO0lryN",
        "colab_type": "text"
      },
      "source": [
        "#### Report\n",
        "Here we can see that initially the satisfication average reduces continuosly for 4 year but we can see a high jump in the fifth year, and it remains the highest till 10 years.\n",
        "From this analysis I can assume that may be there is any policy of company for completing 5 years,there may be some benifits or compensation or promotion or may be any kind of gift is given to employees for spending 5 years that's why there is sudden hike in the satisfaction average of employees."
      ]
    },
    {
      "cell_type": "markdown",
      "metadata": {
        "id": "1Wan8AXDlryP",
        "colab_type": "text"
      },
      "source": [
        "### Analysing quiting of jobs of a person"
      ]
    },
    {
      "cell_type": "code",
      "metadata": {
        "id": "p8uAqgihlryQ",
        "colab_type": "code",
        "colab": {
          "base_uri": "https://localhost:8080/",
          "height": 0
        },
        "outputId": "ab4cf068-1e87-4eef-cd5d-fa3a363c0ceb"
      },
      "source": [
        "plt.figure(figsize=(10,7))\n",
        "snb.boxplot( y = 'time_spend_company' ,x ='left' , data = df)"
      ],
      "execution_count": 26,
      "outputs": [
        {
          "output_type": "execute_result",
          "data": {
            "text/plain": [
              "<matplotlib.axes._subplots.AxesSubplot at 0x7fc867827c18>"
            ]
          },
          "metadata": {
            "tags": []
          },
          "execution_count": 26
        },
        {
          "output_type": "display_data",
          "data": {
            "image/png": "[encoded data removed]",
            "text/plain": [
              "<Figure size 720x504 with 1 Axes>"
            ]
          },
          "metadata": {
            "tags": [],
            "needs_background": "light"
          }
        }
      ]
    },
    {
      "cell_type": "markdown",
      "metadata": {
        "id": "IBdl3ZXslryX",
        "colab_type": "text"
      },
      "source": [
        "#### Report \n",
        "Here we can see that most number of person quit there job after 4 year. \n",
        "We have also seen above that most number of unsatisfied workforce belongs to the group of 4 year experience.\n",
        "Therefore company has to improve its policy and see that how they can better the work enviroment of people belonging to 4 experience group."
      ]
    },
    {
      "cell_type": "markdown",
      "metadata": {
        "id": "ZRjHJrxDlryY",
        "colab_type": "text"
      },
      "source": [
        "##  Further Data Processing"
      ]
    },
    {
      "cell_type": "markdown",
      "metadata": {
        "id": "9DxvOaNUlrya",
        "colab_type": "text"
      },
      "source": [
        "### Categorising Satisfaction into labels"
      ]
    },
    {
      "cell_type": "code",
      "metadata": {
        "id": "zIXaduf1lryb",
        "colab_type": "code",
        "colab": {}
      },
      "source": [
        "def labelling(avg_sat):\n",
        "    if avg_sat >=0.80:\n",
        "        return 'A'\n",
        "    if avg_sat >=0.50:\n",
        "        return 'B'\n",
        "    if avg_sat >=0.30:\n",
        "        return 'C'\n",
        "    if avg_sat >=0.20:\n",
        "        return 'D'\n",
        "    if avg_sat >=0.10:\n",
        "        return 'E'\n",
        "    return \"F\"\n"
      ],
      "execution_count": 27,
      "outputs": []
    },
    {
      "cell_type": "code",
      "metadata": {
        "id": "-8n9g23dlryi",
        "colab_type": "code",
        "colab": {
          "base_uri": "https://localhost:8080/",
          "height": 0
        },
        "outputId": "3f0203a8-a483-4dfb-826c-1fd48e0331b5"
      },
      "source": [
        "df['Satisfaction'] =df.apply(lambda x : labelling(x['satisfaction_level']) ,axis =1)\n",
        "df"
      ],
      "execution_count": 28,
      "outputs": [
        {
          "output_type": "execute_result",
          "data": {
            "text/html": [
              "<div>\n",
              "<style scoped>\n",
              "    .dataframe tbody tr th:only-of-type {\n",
              "        vertical-align: middle;\n",
              "    }\n",
              "\n",
              "    .dataframe tbody tr th {\n",
              "        vertical-align: top;\n",
              "    }\n",
              "\n",
              "    .dataframe thead th {\n",
              "        text-align: right;\n",
              "    }\n",
              "</style>\n",
              "<table border=\"1\" class=\"dataframe\">\n",
              "  <thead>\n",
              "    <tr style=\"text-align: right;\">\n",
              "      <th></th>\n",
              "      <th>satisfaction_level</th>\n",
              "      <th>last_evaluation</th>\n",
              "      <th>number_project</th>\n",
              "      <th>average_montly_hours</th>\n",
              "      <th>time_spend_company</th>\n",
              "      <th>Work_accident</th>\n",
              "      <th>left</th>\n",
              "      <th>promotion_last_5years</th>\n",
              "      <th>Department</th>\n",
              "      <th>salary</th>\n",
              "      <th>Satisfaction</th>\n",
              "    </tr>\n",
              "  </thead>\n",
              "  <tbody>\n",
              "    <tr>\n",
              "      <th>0</th>\n",
              "      <td>0.38</td>\n",
              "      <td>0.53</td>\n",
              "      <td>2</td>\n",
              "      <td>157</td>\n",
              "      <td>3</td>\n",
              "      <td>0</td>\n",
              "      <td>1</td>\n",
              "      <td>0</td>\n",
              "      <td>sales</td>\n",
              "      <td>low</td>\n",
              "      <td>C</td>\n",
              "    </tr>\n",
              "    <tr>\n",
              "      <th>1</th>\n",
              "      <td>0.80</td>\n",
              "      <td>0.86</td>\n",
              "      <td>5</td>\n",
              "      <td>262</td>\n",
              "      <td>6</td>\n",
              "      <td>0</td>\n",
              "      <td>1</td>\n",
              "      <td>0</td>\n",
              "      <td>sales</td>\n",
              "      <td>medium</td>\n",
              "      <td>A</td>\n",
              "    </tr>\n",
              "    <tr>\n",
              "      <th>2</th>\n",
              "      <td>0.11</td>\n",
              "      <td>0.88</td>\n",
              "      <td>7</td>\n",
              "      <td>272</td>\n",
              "      <td>4</td>\n",
              "      <td>0</td>\n",
              "      <td>1</td>\n",
              "      <td>0</td>\n",
              "      <td>sales</td>\n",
              "      <td>medium</td>\n",
              "      <td>E</td>\n",
              "    </tr>\n",
              "    <tr>\n",
              "      <th>3</th>\n",
              "      <td>0.72</td>\n",
              "      <td>0.87</td>\n",
              "      <td>5</td>\n",
              "      <td>223</td>\n",
              "      <td>5</td>\n",
              "      <td>0</td>\n",
              "      <td>1</td>\n",
              "      <td>0</td>\n",
              "      <td>sales</td>\n",
              "      <td>low</td>\n",
              "      <td>B</td>\n",
              "    </tr>\n",
              "    <tr>\n",
              "      <th>4</th>\n",
              "      <td>0.37</td>\n",
              "      <td>0.52</td>\n",
              "      <td>2</td>\n",
              "      <td>159</td>\n",
              "      <td>3</td>\n",
              "      <td>0</td>\n",
              "      <td>1</td>\n",
              "      <td>0</td>\n",
              "      <td>sales</td>\n",
              "      <td>low</td>\n",
              "      <td>C</td>\n",
              "    </tr>\n",
              "    <tr>\n",
              "      <th>...</th>\n",
              "      <td>...</td>\n",
              "      <td>...</td>\n",
              "      <td>...</td>\n",
              "      <td>...</td>\n",
              "      <td>...</td>\n",
              "      <td>...</td>\n",
              "      <td>...</td>\n",
              "      <td>...</td>\n",
              "      <td>...</td>\n",
              "      <td>...</td>\n",
              "      <td>...</td>\n",
              "    </tr>\n",
              "    <tr>\n",
              "      <th>14994</th>\n",
              "      <td>0.40</td>\n",
              "      <td>0.57</td>\n",
              "      <td>2</td>\n",
              "      <td>151</td>\n",
              "      <td>3</td>\n",
              "      <td>0</td>\n",
              "      <td>1</td>\n",
              "      <td>0</td>\n",
              "      <td>support</td>\n",
              "      <td>low</td>\n",
              "      <td>C</td>\n",
              "    </tr>\n",
              "    <tr>\n",
              "      <th>14995</th>\n",
              "      <td>0.37</td>\n",
              "      <td>0.48</td>\n",
              "      <td>2</td>\n",
              "      <td>160</td>\n",
              "      <td>3</td>\n",
              "      <td>0</td>\n",
              "      <td>1</td>\n",
              "      <td>0</td>\n",
              "      <td>support</td>\n",
              "      <td>low</td>\n",
              "      <td>C</td>\n",
              "    </tr>\n",
              "    <tr>\n",
              "      <th>14996</th>\n",
              "      <td>0.37</td>\n",
              "      <td>0.53</td>\n",
              "      <td>2</td>\n",
              "      <td>143</td>\n",
              "      <td>3</td>\n",
              "      <td>0</td>\n",
              "      <td>1</td>\n",
              "      <td>0</td>\n",
              "      <td>support</td>\n",
              "      <td>low</td>\n",
              "      <td>C</td>\n",
              "    </tr>\n",
              "    <tr>\n",
              "      <th>14997</th>\n",
              "      <td>0.11</td>\n",
              "      <td>0.96</td>\n",
              "      <td>6</td>\n",
              "      <td>280</td>\n",
              "      <td>4</td>\n",
              "      <td>0</td>\n",
              "      <td>1</td>\n",
              "      <td>0</td>\n",
              "      <td>support</td>\n",
              "      <td>low</td>\n",
              "      <td>E</td>\n",
              "    </tr>\n",
              "    <tr>\n",
              "      <th>14998</th>\n",
              "      <td>0.37</td>\n",
              "      <td>0.52</td>\n",
              "      <td>2</td>\n",
              "      <td>158</td>\n",
              "      <td>3</td>\n",
              "      <td>0</td>\n",
              "      <td>1</td>\n",
              "      <td>0</td>\n",
              "      <td>support</td>\n",
              "      <td>low</td>\n",
              "      <td>C</td>\n",
              "    </tr>\n",
              "  </tbody>\n",
              "</table>\n",
              "<p>14999 rows × 11 columns</p>\n",
              "</div>"
            ],
            "text/plain": [
              "       satisfaction_level  last_evaluation  ...  salary  Satisfaction\n",
              "0                    0.38             0.53  ...     low             C\n",
              "1                    0.80             0.86  ...  medium             A\n",
              "2                    0.11             0.88  ...  medium             E\n",
              "3                    0.72             0.87  ...     low             B\n",
              "4                    0.37             0.52  ...     low             C\n",
              "...                   ...              ...  ...     ...           ...\n",
              "14994                0.40             0.57  ...     low             C\n",
              "14995                0.37             0.48  ...     low             C\n",
              "14996                0.37             0.53  ...     low             C\n",
              "14997                0.11             0.96  ...     low             E\n",
              "14998                0.37             0.52  ...     low             C\n",
              "\n",
              "[14999 rows x 11 columns]"
            ]
          },
          "metadata": {
            "tags": []
          },
          "execution_count": 28
        }
      ]
    },
    {
      "cell_type": "code",
      "metadata": {
        "id": "lavrh1K_lryq",
        "colab_type": "code",
        "colab": {
          "base_uri": "https://localhost:8080/",
          "height": 0
        },
        "outputId": "7f2e216f-cf8a-4b29-88d9-e9f461089093"
      },
      "source": [
        "df[\"Satisfaction\"].value_counts()"
      ],
      "execution_count": 29,
      "outputs": [
        {
          "output_type": "execute_result",
          "data": {
            "text/plain": [
              "B    6192\n",
              "A    4224\n",
              "C    2681\n",
              "E    1214\n",
              "D     493\n",
              "F     195\n",
              "Name: Satisfaction, dtype: int64"
            ]
          },
          "metadata": {
            "tags": []
          },
          "execution_count": 29
        }
      ]
    },
    {
      "cell_type": "markdown",
      "metadata": {
        "id": "Hh4CgO8Flryy",
        "colab_type": "text"
      },
      "source": [
        "### Evaluating employees on last evaluation"
      ]
    },
    {
      "cell_type": "code",
      "metadata": {
        "id": "t_BOtBItlryz",
        "colab_type": "code",
        "colab": {}
      },
      "source": [
        "df['Pass_Status'] = np.where(df['last_evaluation']<0.50 , 'F','P')"
      ],
      "execution_count": 30,
      "outputs": []
    },
    {
      "cell_type": "code",
      "metadata": {
        "id": "Eqiy535vlry6",
        "colab_type": "code",
        "colab": {
          "base_uri": "https://localhost:8080/",
          "height": 0
        },
        "outputId": "11e0cb4a-32ea-4794-e8dd-7bcbdd614ecb"
      },
      "source": [
        "df"
      ],
      "execution_count": 31,
      "outputs": [
        {
          "output_type": "execute_result",
          "data": {
            "text/html": [
              "<div>\n",
              "<style scoped>\n",
              "    .dataframe tbody tr th:only-of-type {\n",
              "        vertical-align: middle;\n",
              "    }\n",
              "\n",
              "    .dataframe tbody tr th {\n",
              "        vertical-align: top;\n",
              "    }\n",
              "\n",
              "    .dataframe thead th {\n",
              "        text-align: right;\n",
              "    }\n",
              "</style>\n",
              "<table border=\"1\" class=\"dataframe\">\n",
              "  <thead>\n",
              "    <tr style=\"text-align: right;\">\n",
              "      <th></th>\n",
              "      <th>satisfaction_level</th>\n",
              "      <th>last_evaluation</th>\n",
              "      <th>number_project</th>\n",
              "      <th>average_montly_hours</th>\n",
              "      <th>time_spend_company</th>\n",
              "      <th>Work_accident</th>\n",
              "      <th>left</th>\n",
              "      <th>promotion_last_5years</th>\n",
              "      <th>Department</th>\n",
              "      <th>salary</th>\n",
              "      <th>Satisfaction</th>\n",
              "      <th>Pass_Status</th>\n",
              "    </tr>\n",
              "  </thead>\n",
              "  <tbody>\n",
              "    <tr>\n",
              "      <th>0</th>\n",
              "      <td>0.38</td>\n",
              "      <td>0.53</td>\n",
              "      <td>2</td>\n",
              "      <td>157</td>\n",
              "      <td>3</td>\n",
              "      <td>0</td>\n",
              "      <td>1</td>\n",
              "      <td>0</td>\n",
              "      <td>sales</td>\n",
              "      <td>low</td>\n",
              "      <td>C</td>\n",
              "      <td>P</td>\n",
              "    </tr>\n",
              "    <tr>\n",
              "      <th>1</th>\n",
              "      <td>0.80</td>\n",
              "      <td>0.86</td>\n",
              "      <td>5</td>\n",
              "      <td>262</td>\n",
              "      <td>6</td>\n",
              "      <td>0</td>\n",
              "      <td>1</td>\n",
              "      <td>0</td>\n",
              "      <td>sales</td>\n",
              "      <td>medium</td>\n",
              "      <td>A</td>\n",
              "      <td>P</td>\n",
              "    </tr>\n",
              "    <tr>\n",
              "      <th>2</th>\n",
              "      <td>0.11</td>\n",
              "      <td>0.88</td>\n",
              "      <td>7</td>\n",
              "      <td>272</td>\n",
              "      <td>4</td>\n",
              "      <td>0</td>\n",
              "      <td>1</td>\n",
              "      <td>0</td>\n",
              "      <td>sales</td>\n",
              "      <td>medium</td>\n",
              "      <td>E</td>\n",
              "      <td>P</td>\n",
              "    </tr>\n",
              "    <tr>\n",
              "      <th>3</th>\n",
              "      <td>0.72</td>\n",
              "      <td>0.87</td>\n",
              "      <td>5</td>\n",
              "      <td>223</td>\n",
              "      <td>5</td>\n",
              "      <td>0</td>\n",
              "      <td>1</td>\n",
              "      <td>0</td>\n",
              "      <td>sales</td>\n",
              "      <td>low</td>\n",
              "      <td>B</td>\n",
              "      <td>P</td>\n",
              "    </tr>\n",
              "    <tr>\n",
              "      <th>4</th>\n",
              "      <td>0.37</td>\n",
              "      <td>0.52</td>\n",
              "      <td>2</td>\n",
              "      <td>159</td>\n",
              "      <td>3</td>\n",
              "      <td>0</td>\n",
              "      <td>1</td>\n",
              "      <td>0</td>\n",
              "      <td>sales</td>\n",
              "      <td>low</td>\n",
              "      <td>C</td>\n",
              "      <td>P</td>\n",
              "    </tr>\n",
              "    <tr>\n",
              "      <th>...</th>\n",
              "      <td>...</td>\n",
              "      <td>...</td>\n",
              "      <td>...</td>\n",
              "      <td>...</td>\n",
              "      <td>...</td>\n",
              "      <td>...</td>\n",
              "      <td>...</td>\n",
              "      <td>...</td>\n",
              "      <td>...</td>\n",
              "      <td>...</td>\n",
              "      <td>...</td>\n",
              "      <td>...</td>\n",
              "    </tr>\n",
              "    <tr>\n",
              "      <th>14994</th>\n",
              "      <td>0.40</td>\n",
              "      <td>0.57</td>\n",
              "      <td>2</td>\n",
              "      <td>151</td>\n",
              "      <td>3</td>\n",
              "      <td>0</td>\n",
              "      <td>1</td>\n",
              "      <td>0</td>\n",
              "      <td>support</td>\n",
              "      <td>low</td>\n",
              "      <td>C</td>\n",
              "      <td>P</td>\n",
              "    </tr>\n",
              "    <tr>\n",
              "      <th>14995</th>\n",
              "      <td>0.37</td>\n",
              "      <td>0.48</td>\n",
              "      <td>2</td>\n",
              "      <td>160</td>\n",
              "      <td>3</td>\n",
              "      <td>0</td>\n",
              "      <td>1</td>\n",
              "      <td>0</td>\n",
              "      <td>support</td>\n",
              "      <td>low</td>\n",
              "      <td>C</td>\n",
              "      <td>F</td>\n",
              "    </tr>\n",
              "    <tr>\n",
              "      <th>14996</th>\n",
              "      <td>0.37</td>\n",
              "      <td>0.53</td>\n",
              "      <td>2</td>\n",
              "      <td>143</td>\n",
              "      <td>3</td>\n",
              "      <td>0</td>\n",
              "      <td>1</td>\n",
              "      <td>0</td>\n",
              "      <td>support</td>\n",
              "      <td>low</td>\n",
              "      <td>C</td>\n",
              "      <td>P</td>\n",
              "    </tr>\n",
              "    <tr>\n",
              "      <th>14997</th>\n",
              "      <td>0.11</td>\n",
              "      <td>0.96</td>\n",
              "      <td>6</td>\n",
              "      <td>280</td>\n",
              "      <td>4</td>\n",
              "      <td>0</td>\n",
              "      <td>1</td>\n",
              "      <td>0</td>\n",
              "      <td>support</td>\n",
              "      <td>low</td>\n",
              "      <td>E</td>\n",
              "      <td>P</td>\n",
              "    </tr>\n",
              "    <tr>\n",
              "      <th>14998</th>\n",
              "      <td>0.37</td>\n",
              "      <td>0.52</td>\n",
              "      <td>2</td>\n",
              "      <td>158</td>\n",
              "      <td>3</td>\n",
              "      <td>0</td>\n",
              "      <td>1</td>\n",
              "      <td>0</td>\n",
              "      <td>support</td>\n",
              "      <td>low</td>\n",
              "      <td>C</td>\n",
              "      <td>P</td>\n",
              "    </tr>\n",
              "  </tbody>\n",
              "</table>\n",
              "<p>14999 rows × 12 columns</p>\n",
              "</div>"
            ],
            "text/plain": [
              "       satisfaction_level  last_evaluation  ...  Satisfaction  Pass_Status\n",
              "0                    0.38             0.53  ...             C            P\n",
              "1                    0.80             0.86  ...             A            P\n",
              "2                    0.11             0.88  ...             E            P\n",
              "3                    0.72             0.87  ...             B            P\n",
              "4                    0.37             0.52  ...             C            P\n",
              "...                   ...              ...  ...           ...          ...\n",
              "14994                0.40             0.57  ...             C            P\n",
              "14995                0.37             0.48  ...             C            F\n",
              "14996                0.37             0.53  ...             C            P\n",
              "14997                0.11             0.96  ...             E            P\n",
              "14998                0.37             0.52  ...             C            P\n",
              "\n",
              "[14999 rows x 12 columns]"
            ]
          },
          "metadata": {
            "tags": []
          },
          "execution_count": 31
        }
      ]
    },
    {
      "cell_type": "markdown",
      "metadata": {
        "id": "_I5S1gQJlrzB",
        "colab_type": "text"
      },
      "source": [
        "## Data Analysis"
      ]
    },
    {
      "cell_type": "markdown",
      "metadata": {
        "id": "9P1jKsGUlrzC",
        "colab_type": "text"
      },
      "source": [
        "### Analysing satisfaction range"
      ]
    },
    {
      "cell_type": "code",
      "metadata": {
        "id": "Aa9taHZqlrzF",
        "colab_type": "code",
        "colab": {
          "base_uri": "https://localhost:8080/",
          "height": 0
        },
        "outputId": "39324747-806c-4617-b779-75a85186cae7"
      },
      "source": [
        "plt.figure(figsize=(10,8))\n",
        "snb.countplot(data = df , x = 'Satisfaction')"
      ],
      "execution_count": 32,
      "outputs": [
        {
          "output_type": "execute_result",
          "data": {
            "text/plain": [
              "<matplotlib.axes._subplots.AxesSubplot at 0x7fc868531470>"
            ]
          },
          "metadata": {
            "tags": []
          },
          "execution_count": 32
        },
        {
          "output_type": "display_data",
          "data": {
            "image/png": "[encoded data removed]",
            "text/plain": [
              "<Figure size 720x576 with 1 Axes>"
            ]
          },
          "metadata": {
            "tags": [],
            "needs_background": "light"
          }
        }
      ]
    },
    {
      "cell_type": "markdown",
      "metadata": {
        "id": "tNyudrFplrzM",
        "colab_type": "text"
      },
      "source": [
        "#### Report\n",
        "Here we can see that most number of employees lies between the satisfaction range of 0.5 to 0.8"
      ]
    },
    {
      "cell_type": "markdown",
      "metadata": {
        "id": "9yHiJfbSlrzN",
        "colab_type": "text"
      },
      "source": [
        "### Analysing report of last evaluation"
      ]
    },
    {
      "cell_type": "code",
      "metadata": {
        "id": "2fzbdj62lrzP",
        "colab_type": "code",
        "colab": {
          "base_uri": "https://localhost:8080/",
          "height": 0
        },
        "outputId": "4c22eb22-e42a-44b6-fe28-f583a5d8becd"
      },
      "source": [
        "plt.figure(figsize=(10,8))\n",
        "snb.countplot(data = df[df[\"Pass_Status\"]==\"F\"] , x = 'Pass_Status',hue = \"Department\")"
      ],
      "execution_count": 33,
      "outputs": [
        {
          "output_type": "execute_result",
          "data": {
            "text/plain": [
              "<matplotlib.axes._subplots.AxesSubplot at 0x7fc8678b0550>"
            ]
          },
          "metadata": {
            "tags": []
          },
          "execution_count": 33
        },
        {
          "output_type": "display_data",
          "data": {
            "image/png": "[encoded data removed]",
            "text/plain": [
              "<Figure size 720x576 with 1 Axes>"
            ]
          },
          "metadata": {
            "tags": [],
            "needs_background": "light"
          }
        }
      ]
    },
    {
      "cell_type": "markdown",
      "metadata": {
        "id": "etXL_f_PlrzZ",
        "colab_type": "text"
      },
      "source": [
        "#### Report\n",
        "Here we can see that number of employees failed deaprtment wise.\n",
        "So here we can see that most of the employees from sales department got less than 0.5 marks in evaluating."
      ]
    },
    {
      "cell_type": "markdown",
      "metadata": {
        "id": "3jzXdTiUlrza",
        "colab_type": "text"
      },
      "source": [
        "## Analysis of satisfaction level wit salary tag"
      ]
    },
    {
      "cell_type": "code",
      "metadata": {
        "id": "XvLVFr9Dlrzc",
        "colab_type": "code",
        "colab": {
          "base_uri": "https://localhost:8080/",
          "height": 514
        },
        "outputId": "b5fb6df6-b23e-4ee3-b479-9877ea49670b"
      },
      "source": [
        "plt.figure(figsize=(10,8))\n",
        "snb.violinplot( x = df[\"salary\"], y = df[\"satisfaction_level\"] ) "
      ],
      "execution_count": 34,
      "outputs": [
        {
          "output_type": "execute_result",
          "data": {
            "text/plain": [
              "<matplotlib.axes._subplots.AxesSubplot at 0x7fc867636278>"
            ]
          },
          "metadata": {
            "tags": []
          },
          "execution_count": 34
        },
        {
          "output_type": "display_data",
          "data": {
            "image/png": "[encoded data removed]",
            "text/plain": [
              "<Figure size 720x576 with 1 Axes>"
            ]
          },
          "metadata": {
            "tags": [],
            "needs_background": "light"
          }
        }
      ]
    },
    {
      "cell_type": "markdown",
      "metadata": {
        "id": "ivJeLy2Olrzk",
        "colab_type": "text"
      },
      "source": [
        "#### Report\n",
        "Here we can see that in high salary tag there is relatively lower number of less satisfaction_rating , that means high pay grade employees are relatively more satisfied.\n"
      ]
    },
    {
      "cell_type": "markdown",
      "metadata": {
        "id": "8KMsOhk3lrzl",
        "colab_type": "text"
      },
      "source": [
        "## Deducing relationship between various columns"
      ]
    },
    {
      "cell_type": "code",
      "metadata": {
        "id": "MCxCrf5ylrzm",
        "colab_type": "code",
        "colab": {
          "base_uri": "https://localhost:8080/",
          "height": 607
        },
        "outputId": "0d04a209-872b-4c53-fc85-cd214b470d35"
      },
      "source": [
        "# dataset = sns.load_dataset('tips') \n",
        "plt.figure(figsize=(10,8))\n",
        "tc = df.corr() \n",
        "snb.heatmap(tc,annot = True)"
      ],
      "execution_count": 35,
      "outputs": [
        {
          "output_type": "execute_result",
          "data": {
            "text/plain": [
              "<matplotlib.axes._subplots.AxesSubplot at 0x7fc867acce48>"
            ]
          },
          "metadata": {
            "tags": []
          },
          "execution_count": 35
        },
        {
          "output_type": "display_data",
          "data": {
            "image/png": "[encoded data removed]",
            "text/plain": [
              "<Figure size 720x576 with 2 Axes>"
            ]
          },
          "metadata": {
            "tags": [],
            "needs_background": "light"
          }
        }
      ]
    },
    {
      "cell_type": "markdown",
      "metadata": {
        "id": "omUqmAAZlrzt",
        "colab_type": "text"
      },
      "source": [
        "#### Report\n",
        "Here We can see that the correlation of number of projects and average monthly hours is highest.\n",
        "Therefore we can deduce that this two factors are highly co-related i.e. these two columns depends on each other.\n",
        "Here correlation shows linear relation between left and satisfaction level."
      ]
    },
    {
      "cell_type": "markdown",
      "metadata": {
        "id": "2dQTUi2Blrzv",
        "colab_type": "text"
      },
      "source": [
        "### Let us Dive into analysis of people who is leaving the Job"
      ]
    },
    {
      "cell_type": "code",
      "metadata": {
        "id": "u7ldJT1elrzx",
        "colab_type": "code",
        "colab": {
          "base_uri": "https://localhost:8080/",
          "height": 458
        },
        "outputId": "e05b5857-e8c1-4887-eeff-22751bfac690"
      },
      "source": [
        "snb.jointplot(x='satisfaction_level', y='left', data=df,kind = \"reg\" )"
      ],
      "execution_count": 36,
      "outputs": [
        {
          "output_type": "execute_result",
          "data": {
            "text/plain": [
              "<seaborn.axisgrid.JointGrid at 0x7fc863aa50f0>"
            ]
          },
          "metadata": {
            "tags": []
          },
          "execution_count": 36
        },
        {
          "output_type": "display_data",
          "data": {
            "image/png": "[encoded data removed]",
            "text/plain": [
              "<Figure size 432x432 with 3 Axes>"
            ]
          },
          "metadata": {
            "tags": [],
            "needs_background": "light"
          }
        }
      ]
    },
    {
      "cell_type": "markdown",
      "metadata": {
        "id": "vpp5HDwSlrz9",
        "colab_type": "text"
      },
      "source": [
        "#### Report\n",
        "Here we can see that people who tend to leave the job tend to have low satisfaction rating."
      ]
    },
    {
      "cell_type": "markdown",
      "metadata": {
        "id": "GUFDmh8jlrz-",
        "colab_type": "text"
      },
      "source": [
        "# Let us build a Machine Learning Model which can predict the decision of employee of quiting or not based on the all the details."
      ]
    },
    {
      "cell_type": "code",
      "metadata": {
        "id": "bPR9SzQSlrz_",
        "colab_type": "code",
        "colab": {}
      },
      "source": [
        "from sklearn.linear_model import LogisticRegression\n",
        "from sklearn.model_selection import train_test_split\n",
        "from sklearn import linear_model"
      ],
      "execution_count": 37,
      "outputs": []
    },
    {
      "cell_type": "code",
      "metadata": {
        "id": "QENQL4a8lr0J",
        "colab_type": "code",
        "colab": {}
      },
      "source": [
        "dept_dummies = pd.get_dummies(df.Department)"
      ],
      "execution_count": 38,
      "outputs": []
    },
    {
      "cell_type": "code",
      "metadata": {
        "id": "2VTtCWjLlr0U",
        "colab_type": "code",
        "colab": {}
      },
      "source": [
        "dataset = df.drop(['Department'], 1).join(dept_dummies)"
      ],
      "execution_count": 40,
      "outputs": []
    },
    {
      "cell_type": "code",
      "metadata": {
        "id": "IwVHF4fOlr0c",
        "colab_type": "code",
        "colab": {}
      },
      "source": [
        "dataset.salary = dataset.salary.astype('category').cat.reorder_categories(['low', 'medium', 'high'])"
      ],
      "execution_count": 41,
      "outputs": []
    },
    {
      "cell_type": "code",
      "metadata": {
        "id": "QxNvZNWMlr0m",
        "colab_type": "code",
        "colab": {}
      },
      "source": [
        "salary_numeric = pd.DataFrame(dataset.salary.cat.codes)\n",
        "salary_numeric.columns = ['salary']"
      ],
      "execution_count": 42,
      "outputs": []
    },
    {
      "cell_type": "code",
      "metadata": {
        "id": "3G2OC5fvlr0t",
        "colab_type": "code",
        "colab": {}
      },
      "source": [
        "dataset = dataset.drop(['salary'], 1).join(salary_numeric)"
      ],
      "execution_count": 43,
      "outputs": []
    },
    {
      "cell_type": "code",
      "metadata": {
        "id": "VYbclze0lr0z",
        "colab_type": "code",
        "colab": {
          "base_uri": "https://localhost:8080/",
          "height": 422
        },
        "outputId": "0da7cc57-5228-414c-e5a8-b3ab7f5d37c2"
      },
      "source": [
        "dataset"
      ],
      "execution_count": 44,
      "outputs": [
        {
          "output_type": "execute_result",
          "data": {
            "text/html": [
              "<div>\n",
              "<style scoped>\n",
              "    .dataframe tbody tr th:only-of-type {\n",
              "        vertical-align: middle;\n",
              "    }\n",
              "\n",
              "    .dataframe tbody tr th {\n",
              "        vertical-align: top;\n",
              "    }\n",
              "\n",
              "    .dataframe thead th {\n",
              "        text-align: right;\n",
              "    }\n",
              "</style>\n",
              "<table border=\"1\" class=\"dataframe\">\n",
              "  <thead>\n",
              "    <tr style=\"text-align: right;\">\n",
              "      <th></th>\n",
              "      <th>satisfaction_level</th>\n",
              "      <th>last_evaluation</th>\n",
              "      <th>number_project</th>\n",
              "      <th>average_montly_hours</th>\n",
              "      <th>time_spend_company</th>\n",
              "      <th>Work_accident</th>\n",
              "      <th>left</th>\n",
              "      <th>promotion_last_5years</th>\n",
              "      <th>Satisfaction</th>\n",
              "      <th>Pass_Status</th>\n",
              "      <th>IT</th>\n",
              "      <th>RandD</th>\n",
              "      <th>accounting</th>\n",
              "      <th>hr</th>\n",
              "      <th>management</th>\n",
              "      <th>marketing</th>\n",
              "      <th>product_mng</th>\n",
              "      <th>sales</th>\n",
              "      <th>support</th>\n",
              "      <th>technical</th>\n",
              "      <th>salary</th>\n",
              "    </tr>\n",
              "  </thead>\n",
              "  <tbody>\n",
              "    <tr>\n",
              "      <th>0</th>\n",
              "      <td>0.38</td>\n",
              "      <td>0.53</td>\n",
              "      <td>2</td>\n",
              "      <td>157</td>\n",
              "      <td>3</td>\n",
              "      <td>0</td>\n",
              "      <td>1</td>\n",
              "      <td>0</td>\n",
              "      <td>C</td>\n",
              "      <td>P</td>\n",
              "      <td>0</td>\n",
              "      <td>0</td>\n",
              "      <td>0</td>\n",
              "      <td>0</td>\n",
              "      <td>0</td>\n",
              "      <td>0</td>\n",
              "      <td>0</td>\n",
              "      <td>1</td>\n",
              "      <td>0</td>\n",
              "      <td>0</td>\n",
              "      <td>0</td>\n",
              "    </tr>\n",
              "    <tr>\n",
              "      <th>1</th>\n",
              "      <td>0.80</td>\n",
              "      <td>0.86</td>\n",
              "      <td>5</td>\n",
              "      <td>262</td>\n",
              "      <td>6</td>\n",
              "      <td>0</td>\n",
              "      <td>1</td>\n",
              "      <td>0</td>\n",
              "      <td>A</td>\n",
              "      <td>P</td>\n",
              "      <td>0</td>\n",
              "      <td>0</td>\n",
              "      <td>0</td>\n",
              "      <td>0</td>\n",
              "      <td>0</td>\n",
              "      <td>0</td>\n",
              "      <td>0</td>\n",
              "      <td>1</td>\n",
              "      <td>0</td>\n",
              "      <td>0</td>\n",
              "      <td>1</td>\n",
              "    </tr>\n",
              "    <tr>\n",
              "      <th>2</th>\n",
              "      <td>0.11</td>\n",
              "      <td>0.88</td>\n",
              "      <td>7</td>\n",
              "      <td>272</td>\n",
              "      <td>4</td>\n",
              "      <td>0</td>\n",
              "      <td>1</td>\n",
              "      <td>0</td>\n",
              "      <td>E</td>\n",
              "      <td>P</td>\n",
              "      <td>0</td>\n",
              "      <td>0</td>\n",
              "      <td>0</td>\n",
              "      <td>0</td>\n",
              "      <td>0</td>\n",
              "      <td>0</td>\n",
              "      <td>0</td>\n",
              "      <td>1</td>\n",
              "      <td>0</td>\n",
              "      <td>0</td>\n",
              "      <td>1</td>\n",
              "    </tr>\n",
              "    <tr>\n",
              "      <th>3</th>\n",
              "      <td>0.72</td>\n",
              "      <td>0.87</td>\n",
              "      <td>5</td>\n",
              "      <td>223</td>\n",
              "      <td>5</td>\n",
              "      <td>0</td>\n",
              "      <td>1</td>\n",
              "      <td>0</td>\n",
              "      <td>B</td>\n",
              "      <td>P</td>\n",
              "      <td>0</td>\n",
              "      <td>0</td>\n",
              "      <td>0</td>\n",
              "      <td>0</td>\n",
              "      <td>0</td>\n",
              "      <td>0</td>\n",
              "      <td>0</td>\n",
              "      <td>1</td>\n",
              "      <td>0</td>\n",
              "      <td>0</td>\n",
              "      <td>0</td>\n",
              "    </tr>\n",
              "    <tr>\n",
              "      <th>4</th>\n",
              "      <td>0.37</td>\n",
              "      <td>0.52</td>\n",
              "      <td>2</td>\n",
              "      <td>159</td>\n",
              "      <td>3</td>\n",
              "      <td>0</td>\n",
              "      <td>1</td>\n",
              "      <td>0</td>\n",
              "      <td>C</td>\n",
              "      <td>P</td>\n",
              "      <td>0</td>\n",
              "      <td>0</td>\n",
              "      <td>0</td>\n",
              "      <td>0</td>\n",
              "      <td>0</td>\n",
              "      <td>0</td>\n",
              "      <td>0</td>\n",
              "      <td>1</td>\n",
              "      <td>0</td>\n",
              "      <td>0</td>\n",
              "      <td>0</td>\n",
              "    </tr>\n",
              "    <tr>\n",
              "      <th>...</th>\n",
              "      <td>...</td>\n",
              "      <td>...</td>\n",
              "      <td>...</td>\n",
              "      <td>...</td>\n",
              "      <td>...</td>\n",
              "      <td>...</td>\n",
              "      <td>...</td>\n",
              "      <td>...</td>\n",
              "      <td>...</td>\n",
              "      <td>...</td>\n",
              "      <td>...</td>\n",
              "      <td>...</td>\n",
              "      <td>...</td>\n",
              "      <td>...</td>\n",
              "      <td>...</td>\n",
              "      <td>...</td>\n",
              "      <td>...</td>\n",
              "      <td>...</td>\n",
              "      <td>...</td>\n",
              "      <td>...</td>\n",
              "      <td>...</td>\n",
              "    </tr>\n",
              "    <tr>\n",
              "      <th>14994</th>\n",
              "      <td>0.40</td>\n",
              "      <td>0.57</td>\n",
              "      <td>2</td>\n",
              "      <td>151</td>\n",
              "      <td>3</td>\n",
              "      <td>0</td>\n",
              "      <td>1</td>\n",
              "      <td>0</td>\n",
              "      <td>C</td>\n",
              "      <td>P</td>\n",
              "      <td>0</td>\n",
              "      <td>0</td>\n",
              "      <td>0</td>\n",
              "      <td>0</td>\n",
              "      <td>0</td>\n",
              "      <td>0</td>\n",
              "      <td>0</td>\n",
              "      <td>0</td>\n",
              "      <td>1</td>\n",
              "      <td>0</td>\n",
              "      <td>0</td>\n",
              "    </tr>\n",
              "    <tr>\n",
              "      <th>14995</th>\n",
              "      <td>0.37</td>\n",
              "      <td>0.48</td>\n",
              "      <td>2</td>\n",
              "      <td>160</td>\n",
              "      <td>3</td>\n",
              "      <td>0</td>\n",
              "      <td>1</td>\n",
              "      <td>0</td>\n",
              "      <td>C</td>\n",
              "      <td>F</td>\n",
              "      <td>0</td>\n",
              "      <td>0</td>\n",
              "      <td>0</td>\n",
              "      <td>0</td>\n",
              "      <td>0</td>\n",
              "      <td>0</td>\n",
              "      <td>0</td>\n",
              "      <td>0</td>\n",
              "      <td>1</td>\n",
              "      <td>0</td>\n",
              "      <td>0</td>\n",
              "    </tr>\n",
              "    <tr>\n",
              "      <th>14996</th>\n",
              "      <td>0.37</td>\n",
              "      <td>0.53</td>\n",
              "      <td>2</td>\n",
              "      <td>143</td>\n",
              "      <td>3</td>\n",
              "      <td>0</td>\n",
              "      <td>1</td>\n",
              "      <td>0</td>\n",
              "      <td>C</td>\n",
              "      <td>P</td>\n",
              "      <td>0</td>\n",
              "      <td>0</td>\n",
              "      <td>0</td>\n",
              "      <td>0</td>\n",
              "      <td>0</td>\n",
              "      <td>0</td>\n",
              "      <td>0</td>\n",
              "      <td>0</td>\n",
              "      <td>1</td>\n",
              "      <td>0</td>\n",
              "      <td>0</td>\n",
              "    </tr>\n",
              "    <tr>\n",
              "      <th>14997</th>\n",
              "      <td>0.11</td>\n",
              "      <td>0.96</td>\n",
              "      <td>6</td>\n",
              "      <td>280</td>\n",
              "      <td>4</td>\n",
              "      <td>0</td>\n",
              "      <td>1</td>\n",
              "      <td>0</td>\n",
              "      <td>E</td>\n",
              "      <td>P</td>\n",
              "      <td>0</td>\n",
              "      <td>0</td>\n",
              "      <td>0</td>\n",
              "      <td>0</td>\n",
              "      <td>0</td>\n",
              "      <td>0</td>\n",
              "      <td>0</td>\n",
              "      <td>0</td>\n",
              "      <td>1</td>\n",
              "      <td>0</td>\n",
              "      <td>0</td>\n",
              "    </tr>\n",
              "    <tr>\n",
              "      <th>14998</th>\n",
              "      <td>0.37</td>\n",
              "      <td>0.52</td>\n",
              "      <td>2</td>\n",
              "      <td>158</td>\n",
              "      <td>3</td>\n",
              "      <td>0</td>\n",
              "      <td>1</td>\n",
              "      <td>0</td>\n",
              "      <td>C</td>\n",
              "      <td>P</td>\n",
              "      <td>0</td>\n",
              "      <td>0</td>\n",
              "      <td>0</td>\n",
              "      <td>0</td>\n",
              "      <td>0</td>\n",
              "      <td>0</td>\n",
              "      <td>0</td>\n",
              "      <td>0</td>\n",
              "      <td>1</td>\n",
              "      <td>0</td>\n",
              "      <td>0</td>\n",
              "    </tr>\n",
              "  </tbody>\n",
              "</table>\n",
              "<p>14999 rows × 21 columns</p>\n",
              "</div>"
            ],
            "text/plain": [
              "       satisfaction_level  last_evaluation  ...  technical  salary\n",
              "0                    0.38             0.53  ...          0       0\n",
              "1                    0.80             0.86  ...          0       1\n",
              "2                    0.11             0.88  ...          0       1\n",
              "3                    0.72             0.87  ...          0       0\n",
              "4                    0.37             0.52  ...          0       0\n",
              "...                   ...              ...  ...        ...     ...\n",
              "14994                0.40             0.57  ...          0       0\n",
              "14995                0.37             0.48  ...          0       0\n",
              "14996                0.37             0.53  ...          0       0\n",
              "14997                0.11             0.96  ...          0       0\n",
              "14998                0.37             0.52  ...          0       0\n",
              "\n",
              "[14999 rows x 21 columns]"
            ]
          },
          "metadata": {
            "tags": []
          },
          "execution_count": 44
        }
      ]
    },
    {
      "cell_type": "code",
      "metadata": {
        "id": "E0--9U8mlr07",
        "colab_type": "code",
        "colab": {}
      },
      "source": [
        "X = dataset.drop(['left',\"Satisfaction\",\"Pass_Status\"], 1)\n",
        "y = dataset.left\n",
        "x_train, x_test, y_train, y_test = train_test_split(X, y, test_size=.15,\n",
        "                                                    random_state=6)"
      ],
      "execution_count": 45,
      "outputs": []
    },
    {
      "cell_type": "code",
      "metadata": {
        "id": "GkRf7BQtlr1D",
        "colab_type": "code",
        "colab": {}
      },
      "source": [
        " logisticRegr=linear_model.LogisticRegression(penalty='l2', solver='liblinear',\n",
        "                                      tol=1e-9, max_iter=int(1e9),\n",
        "                                      warm_start=True,\n",
        "                                      intercept_scaling=10000.)"
      ],
      "execution_count": 46,
      "outputs": []
    },
    {
      "cell_type": "code",
      "metadata": {
        "id": "Na3GDv-Vlr1M",
        "colab_type": "code",
        "colab": {
          "base_uri": "https://localhost:8080/",
          "height": 101
        },
        "outputId": "382d536a-14d8-4b00-f7fc-c385ef47e3b8"
      },
      "source": [
        "logisticRegr.fit(x_train, y_train)"
      ],
      "execution_count": 47,
      "outputs": [
        {
          "output_type": "execute_result",
          "data": {
            "text/plain": [
              "LogisticRegression(C=1.0, class_weight=None, dual=False, fit_intercept=True,\n",
              "                   intercept_scaling=10000.0, l1_ratio=None,\n",
              "                   max_iter=1000000000, multi_class='auto', n_jobs=None,\n",
              "                   penalty='l2', random_state=None, solver='liblinear',\n",
              "                   tol=1e-09, verbose=0, warm_start=True)"
            ]
          },
          "metadata": {
            "tags": []
          },
          "execution_count": 47
        }
      ]
    },
    {
      "cell_type": "code",
      "metadata": {
        "id": "RIdOtJn0lr1S",
        "colab_type": "code",
        "colab": {}
      },
      "source": [
        "predictions = logisticRegr.predict(x_test)"
      ],
      "execution_count": 48,
      "outputs": []
    },
    {
      "cell_type": "code",
      "metadata": {
        "id": "3VSRAuuqlr1Y",
        "colab_type": "code",
        "colab": {
          "base_uri": "https://localhost:8080/",
          "height": 34
        },
        "outputId": "3d1f0819-f11a-4a25-e657-d5d513d4b79c"
      },
      "source": [
        "score = logisticRegr.score(x_test, y_test)\n",
        "print(score)"
      ],
      "execution_count": 49,
      "outputs": [
        {
          "output_type": "stream",
          "text": [
            "0.7933333333333333\n"
          ],
          "name": "stdout"
        }
      ]
    },
    {
      "cell_type": "markdown",
      "metadata": {
        "id": "1rtMa8pUlr1i",
        "colab_type": "text"
      },
      "source": [
        "#### Report\n",
        "We Developed a classifier which can predict the the decision made by employee whether to quit the company or not.\n"
      ]
    },
    {
      "cell_type": "code",
      "metadata": {
        "id": "GQjruipmm-VT",
        "colab_type": "code",
        "colab": {}
      },
      "source": [
        ""
      ],
      "execution_count": null,
      "outputs": []
    }
  ]
}